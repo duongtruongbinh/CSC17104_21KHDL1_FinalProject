{
 "cells": [
  {
   "cell_type": "markdown",
   "metadata": {},
   "source": [
    "# <p style=\"text-align: center;\"> <b> Reflection and References</b></p>\n",
    "---"
   ]
  },
  {
   "cell_type": "markdown",
   "metadata": {},
   "source": [
    "<a class=\"anchor\" id=\"1\"></a>\n",
    "## <div style=\"text-align: left; background-color:#867FEE; font-family:newtimeroman;color: black; padding: 14px; line-height: 1;border-radius:10px\">What difficulties have you encountered? </div>\n",
    "\n",
    "The process of executing our team's final project encountered numerous challenges, ranging from selecting the dataset to exploring and preprocessing the data, to the formulation of research questions.\n",
    "- **Huy:** \n",
    "    - In the data collection phase, after selecting [Spotify Tracks Dataset](https://www.kaggle.com/datasets/maharshipandya/-spotify-tracks-dataset), our team found that the dataset lacked release dates for tracks. Therefore, we explored Spotify's APIs to gather additional information about the release dates of each track. In the initial stages, collecting a few hundred to a few thousand music tracks was successful. However, when attempting to collect up to 114,000 tracks, according to my calculations, the process was estimated to take about 3 hours. Surprisingly, after leaving it running for 9 hours, the collection was still incomplete, and it seemed to be taking too long. Consequently, I decided to halt the data collection process. I'm not entirely clear on the reason for this issue, but it appears to be related to the Spotify API struggling with such a large quantity of requests. As a result, our team decided to abandon the collection of release dates for the dataset.\n",
    "    - As for formulating questions for the dataset, due to the failure in collecting release date, I felt stuck and struggled to come up with meaningful ideas for framing questions related to the dataset\n",
    "- **Bình:**\n",
    "    - The selected dataset was collected by the author in October 2022. Therefore, any comments and analyses based on this dataset are only relevant to that specific time and may not provide much value in the current context.\n",
    "\n",
    "    - The popularity column of the songs is calculated based on the total number of plays and recent plays (at the time of data collection). Songs with recent high play counts are rated higher than those with more historical plays. However, as the dataset lacks a column indicating the total play count of songs, it is challenging to make observations or draw conclusions about the overall popularity of the songs.\n",
    "\n",
    "    - The dataset's columns are primarily designed for modeling purposes, making it difficult to formulate questions and extract insights.\n",
    "\n",
    "    - Not much experience in solving conflicts on github, took a lot of time."
   ]
  },
  {
   "cell_type": "markdown",
   "metadata": {},
   "source": [
    "<a class=\"anchor\" id=\"2\"></a>\n",
    "## <div style=\"text-align: left; background-color:#867FEE; font-family:newtimeroman;color: black; padding: 14px; line-height: 1;border-radius:10px\">What have you learned? </div>"
   ]
  },
  {
   "cell_type": "markdown",
   "metadata": {},
   "source": [
    "- Huy:\n",
    "\n",
    "- Bình:\n",
    "    - Undertaking a project provides me with the opportunity to apply and delve deeper into my knowledge of Python libraries such as pandas, numpy, matplotlib, etc.\n",
    "\n",
    "    - I gain a clear understanding of the project workflow, starting from data collection, preprocessing, data visualization, to posing and answering questions.\n",
    "\n",
    "    - I learn various techniques for data exploration, preprocessing, handling missing values, and outliers.\n",
    "\n",
    "    - Acquiring skills in teamwork, task delegation, information exchange, problem-solving, and idea generation becomes a valuable part of the learning process.\n",
    "\n",
    "    - Learning how to use Git for code management, version control, and collaboration greatly enhances project coordination.\n",
    "\n",
    "    - Mastering the art of presenting a notebook in a scientific, understandable, and visually appealing manner is a crucial skill.\n",
    "\n",
    "    - Reflecting on the experience helps me refine my approach to selecting datasets on platforms like Kaggle, focusing on their suitability for purposes like Exploratory Data Analysis (EDA), visualization, and modeling.\n"
   ]
  },
  {
   "cell_type": "markdown",
   "metadata": {},
   "source": [
    "<a class=\"anchor\" id=\"1\"></a>\n",
    "## <div style=\"text-align: left; background-color:#867FEE; font-family:newtimeroman;color: black; padding: 14px; line-height: 1;border-radius:10px\">If you have more time, what would you do? </div>"
   ]
  },
  {
   "cell_type": "markdown",
   "metadata": {},
   "source": [
    "- Explore methods for collecting the \"release date\" field for songs in the dataset.\n",
    "- Research additional libraries, techniques, and innovative chart types to present data in a more dynamic and engaging manner.\n",
    "- Ask additional questions regarding the audio features and musical aspects of the songs to identify the most influential characteristics that impact the popularity of a song.\n",
    "- Implement models to predict the popularity of songs based on their audio features.\n",
    "- Implement models to classify songs into different genres based on their audio features."
   ]
  },
  {
   "cell_type": "markdown",
   "metadata": {},
   "source": [
    "<a class=\"anchor\" id=\"1\"></a>\n",
    "## <div style=\"text-align: left; background-color:#867FEE; font-family:newtimeroman;color: black; padding: 14px; line-height: 1;border-radius:10px\">References </div>"
   ]
  }
 ],
 "metadata": {
  "language_info": {
   "name": "python"
  }
 },
 "nbformat": 4,
 "nbformat_minor": 2
}
