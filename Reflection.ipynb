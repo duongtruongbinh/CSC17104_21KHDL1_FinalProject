{
 "cells": [
  {
   "cell_type": "markdown",
   "metadata": {},
   "source": [
    "# <p style=\"text-align: center;\"> <b> Reflection </b></p>\n",
    "---"
   ]
  },
  {
   "cell_type": "markdown",
   "metadata": {},
   "source": [
    "<a class=\"anchor\" id=\"1\"></a>\n",
    "## <div style=\"text-align: left; background-color:#867FEE; font-family:newtimeroman;color: black; padding: 14px; line-height: 1;border-radius:10px\">What difficulties have you encountered? </div>\n",
    "\n",
    "- The process of executing our team's final project encountered numerous challenges, ranging from selecting the dataset to exploring and preprocessing the data, to the formulation of research questions.\n",
    "- **Huy:** \n",
    "    - In the data collection phase, after selecting [Spotify Tracks Dataset](https://www.kaggle.com/datasets/maharshipandya/-spotify-tracks-dataset), our team found that the dataset lacked release dates for tracks. Therefore, we explored Spotify's APIs to gather additional information about the release dates of each track. In the initial stages, collecting a few hundred to a few thousand music tracks was successful. However, when attempting to collect up to 114,000 tracks, according to my calculations, the process was estimated to take about 3 hours. Surprisingly, after leaving it running for 9 hours, the collection was still incomplete, and it seemed to be taking too long. Consequently, I decided to halt the data collection process. I'm not entirely clear on the reason for this issue, but it appears to be related to the Spotify API struggling with such a large quantity of requests. As a result, our team decided to abandon the collection of release dates for the dataset.\n",
    "    - As for formulating questions for the dataset, due to the failure in collecting release date, I felt stuck and struggled to come up with meaningful ideas for framing questions related to the dataset\n",
    "- **Bình:**"
   ]
  },
  {
   "cell_type": "markdown",
   "metadata": {},
   "source": [
    "<a class=\"anchor\" id=\"2\"></a>\n",
    "## <div style=\"text-align: left; background-color:#867FEE; font-family:newtimeroman;color: black; padding: 14px; line-height: 1;border-radius:10px\">What have you learned? </div>"
   ]
  },
  {
   "cell_type": "markdown",
   "metadata": {},
   "source": [
    "<a class=\"anchor\" id=\"1\"></a>\n",
    "## <div style=\"text-align: left; background-color:#867FEE; font-family:newtimeroman;color: black; padding: 14px; line-height: 1;border-radius:10px\">If you have more time, what would you do? </div>"
   ]
  }
 ],
 "metadata": {
  "language_info": {
   "name": "python"
  }
 },
 "nbformat": 4,
 "nbformat_minor": 2
}
