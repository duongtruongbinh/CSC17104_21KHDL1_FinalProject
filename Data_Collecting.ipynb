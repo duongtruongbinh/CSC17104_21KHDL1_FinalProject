{
 "cells": [
  {
   "cell_type": "markdown",
   "metadata": {},
   "source": [
    "# <p style=\"text-align: center;\"> <b> Data Collecting </b></p>\n",
    "---"
   ]
  },
  {
   "cell_type": "markdown",
   "metadata": {},
   "source": [
    "## Table of Contents\n",
    "\n",
    "1. [Dataset](#dataset)\n",
    "2. [Data Source](#data_source)\n",
    "3. [Data License](#data_license)\n",
    "4. [How did author collect data?](#how_did_author_collect_data)\n",
    "\n",
    "---"
   ]
  },
  {
   "cell_type": "markdown",
   "metadata": {},
   "source": [
    "# 1. Dataset <a class=\"anchor\" id=\"dataset\"></a>\n",
    "\n",
    "- [Spotify Tracks Dataset](https://www.kaggle.com/datasets/maharshipandya/-spotify-tracks-dataset) is a dataset of **Spotify** tracks over a range of 125 different genres.  \n",
    "- Each track is identified by its Spotify ID and accompanied by metadata such as artist names, album name, track name, and popularity.\n",
    "- The dataset provides a rich set of audio features, offering insights into the musical characteristics of each track.\n",
    "- These features include `acousticness`, `danceability`, `energy`, `instrumentalness`, `liveness`, `loudness`, `speechiness`, ...etc. \n"
   ]
  },
  {
   "cell_type": "markdown",
   "metadata": {},
   "source": [
    "# 2. Data Source <a class=\"anchor\" id=\"data_source\"></a>\n",
    "\n",
    "This dataset was collected by our team from Kaggle\n",
    "- Link: [Spotify Tracks Dataset](https://www.kaggle.com/datasets/maharshipandya/-spotify-tracks-dataset)\n",
    "- Author: [Maharshi Pandya](https://www.kaggle.com/maharshipandya)"
   ]
  },
  {
   "cell_type": "markdown",
   "metadata": {},
   "source": [
    "# 3. Data License <a class=\"anchor\" id=\"data_license\"></a>\n",
    "\n",
    "**License**: `Database: Open Database, Contents: © Original Authors`\n",
    "\n",
    "- **Contents: © Original Authors**: The content of this dataset is the intellectual property of the original authors. In this project, we use the dataset for learning and research purposes, not for commercial purposes, so it does not violate the intellectual property rights of the original authors.\n",
    "\n",
    "- [Open Database License (ODbL)](https://opendatacommons.org/licenses/odbl/1.0/): This license agreement is designed to empower users to freely share, modify, and employ the database for various purposes while maintaining the same freedom for others.\n",
    "\n",
    "**Conclusion**: The combined license structure of the `Spotify Tracks Dataset`, comprising the ODbL and the acknowledgment of the original authors' copyright, permits its usage for non-commercial endeavors like learning and research. Consequently, the dataset's utilization in this project adheres to the license terms and does not compromise the intellectual property rights of its creators"
   ]
  },
  {
   "cell_type": "markdown",
   "metadata": {},
   "source": [
    "# 4. How did author collect data? <a class=\"anchor\" id=\"how_did_author_collect_data\"></a>\n",
    "\n",
    "The dataset was collected by [Maharshi Pandya](https://www.kaggle.com/maharshipandya) using [Spotify Web API](https://developer.spotify.com/documentation/web-api/) in October 2022."
   ]
  }
 ],
 "metadata": {
  "kernelspec": {
   "display_name": "venv",
   "language": "python",
   "name": "python3"
  },
  "language_info": {
   "codemirror_mode": {
    "name": "ipython",
    "version": 3
   },
   "file_extension": ".py",
   "mimetype": "text/x-python",
   "name": "python",
   "nbconvert_exporter": "python",
   "pygments_lexer": "ipython3",
   "version": "3.9.18"
  }
 },
 "nbformat": 4,
 "nbformat_minor": 2
}
