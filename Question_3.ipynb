{
 "cells": [
  {
   "cell_type": "markdown",
   "metadata": {},
   "source": [
    "# <p style=\"text-align: center;\"> <b>Question 3</b></p>\n",
    "---"
   ]
  },
  {
   "cell_type": "markdown",
   "metadata": {},
   "source": [
    "<a id=\"top\"></a>\n",
    "<div class=\"list-group\" id=\"list-tab\" role=\"tablist\">\n",
    "    <h3 style=\"text-align: left; background-color: #867FEE; font-family:newtimeroman; color: black; padding: 14px; line-height: 1; border-radius:10px\"><b>Table of Contents ✍️</b></h3>\n",
    "\n",
    "- [1. Question](#1)\n",
    "    - [1.1 The purpose of the question](#1.1)\n",
    "    - [1.2 How to solve the question](#1.2)\n",
    "- [2. Solution](#2)\n",
    "- [3. Answer the question](#3)"
   ]
  },
  {
   "cell_type": "markdown",
   "metadata": {},
   "source": [
    "<a class=\"anchor\" id=\"1\"></a>\n",
    "## <div style=\"text-align: left; background-color:#867FEE; font-family:newtimeroman;color: black; padding: 14px; line-height: 1;border-radius:10px\">1. Question  </div>\n",
    "- How can we suggest songs based on a user's current listening preferences?\n",
    "\n",
    "\n",
    "<a class=\"anchor\" id=\"1.1\"></a>\n",
    "## <span style='color:#2B9C15 '> 1.1 The purpose of the question 👁️‍🗨️ </span>\n",
    "\n",
    "- The goal is to recommend songs to users based on the similarity between songs, helping listeners discover music they might enjoy based on their preferences. We assume that if a user likes a particular song, they may also enjoy songs that are similar to it.\n",
    "\n",
    "\n",
    "<a class=\"anchor\" id=\"1.2\"></a>\n",
    "## <span style='color:#2B9C15 '> 1.2 How to solve the question 📊 </span>\n",
    "\n",
    "- **Using Euclidean Distance as a Foundation:**\n",
    "    - Use Euclidean distance to measure the similarity between songs. The smaller the Euclidean distance, the more similar two songs are from the perspective of the selected features.\n",
    "    - Select K songs with the smallest distances. These are the songs that the system highly rates in similarity to the user's liked song.\n",
    "    - Extract information such as song names and artists from the selected songs and return this information as recommendations for the user.\n",
    "\n"
   ]
  },
  {
   "cell_type": "markdown",
   "metadata": {},
   "source": [
    "\n",
    "<a class=\"anchor\" id=\"2\"></a>\n",
    "## <div style=\"text-align: left; background-color:#867FEE; font-family:newtimeroman;color: black; padding: 14px; line-height: 1;border-radius:10px\">2. Solution  </div>\n"
   ]
  },
  {
   "cell_type": "markdown",
   "metadata": {},
   "source": [
    "### \n",
    "### <span style='color:#2B9C15 '> 📕 Implementation Steps</span>\n",
    "- Data Preparation:\n",
    "    - Drop the 'time_signature' and 'key' columns.\n",
    "    - Drop rows with duplicate 'track_id'.\n",
    "    - Standardize the data.\n",
    "- Calculate the Euclidean distance between each song in the dataset and the recently listened song by the user.\n",
    "- Retrieve the songs with the smallest distances, which are the recommended songs for the user.\n",
    "- Extract information for each recommended song."
   ]
  },
  {
   "cell_type": "markdown",
   "metadata": {},
   "source": [
    "### \n",
    "### <span style='color:#2B9C15 '> 📕 Import Libraries</span>"
   ]
  },
  {
   "cell_type": "code",
   "execution_count": 1,
   "metadata": {},
   "outputs": [],
   "source": [
    "import pandas as pd\n",
    "import numpy as np\n",
    "from sklearn import preprocessing\n",
    "from scipy.spatial import distance\n",
    "import matplotlib.pyplot as plt\n",
    "import seaborn as sns\n",
    "sns.set(rc={\"axes.facecolor\":\"#F2EAC5\",\"figure.facecolor\":\"#F2EAC5\"})"
   ]
  },
  {
   "cell_type": "markdown",
   "metadata": {},
   "source": [
    "### \n",
    "### <span style='color:#2B9C15 '> 📕 Preprocessing</span>\n",
    "- Read data from a CSV file and exclude the columns `time_signature` and `key`.\n",
    "    - The removal of the 'time_signature' and 'key' columns is due to their categorical nature. While it's possible to encode them, doing so may impact the results of the recommendation process.\n"
   ]
  },
  {
   "cell_type": "code",
   "execution_count": 2,
   "metadata": {},
   "outputs": [
    {
     "data": {
      "text/html": [
       "<div>\n",
       "<style scoped>\n",
       "    .dataframe tbody tr th:only-of-type {\n",
       "        vertical-align: middle;\n",
       "    }\n",
       "\n",
       "    .dataframe tbody tr th {\n",
       "        vertical-align: top;\n",
       "    }\n",
       "\n",
       "    .dataframe thead th {\n",
       "        text-align: right;\n",
       "    }\n",
       "</style>\n",
       "<table border=\"1\" class=\"dataframe\">\n",
       "  <thead>\n",
       "    <tr style=\"text-align: right;\">\n",
       "      <th></th>\n",
       "      <th>track_id</th>\n",
       "      <th>artists</th>\n",
       "      <th>album_name</th>\n",
       "      <th>track_name</th>\n",
       "      <th>popularity</th>\n",
       "      <th>duration_ms</th>\n",
       "      <th>explicit</th>\n",
       "      <th>danceability</th>\n",
       "      <th>energy</th>\n",
       "      <th>loudness</th>\n",
       "      <th>mode</th>\n",
       "      <th>speechiness</th>\n",
       "      <th>acousticness</th>\n",
       "      <th>instrumentalness</th>\n",
       "      <th>liveness</th>\n",
       "      <th>valence</th>\n",
       "      <th>tempo</th>\n",
       "      <th>track_genre</th>\n",
       "    </tr>\n",
       "  </thead>\n",
       "  <tbody>\n",
       "    <tr>\n",
       "      <th>0</th>\n",
       "      <td>5SuOikwiRyPMVoIQDJUgSV</td>\n",
       "      <td>Gen Hoshino</td>\n",
       "      <td>Comedy</td>\n",
       "      <td>Comedy</td>\n",
       "      <td>73</td>\n",
       "      <td>230666</td>\n",
       "      <td>False</td>\n",
       "      <td>0.676</td>\n",
       "      <td>0.4610</td>\n",
       "      <td>-6.746</td>\n",
       "      <td>0</td>\n",
       "      <td>0.1430</td>\n",
       "      <td>0.0322</td>\n",
       "      <td>0.000001</td>\n",
       "      <td>0.3580</td>\n",
       "      <td>0.715</td>\n",
       "      <td>87.917</td>\n",
       "      <td>acoustic</td>\n",
       "    </tr>\n",
       "    <tr>\n",
       "      <th>1</th>\n",
       "      <td>4qPNDBW1i3p13qLCt0Ki3A</td>\n",
       "      <td>Ben Woodward</td>\n",
       "      <td>Ghost (Acoustic)</td>\n",
       "      <td>Ghost - Acoustic</td>\n",
       "      <td>55</td>\n",
       "      <td>149610</td>\n",
       "      <td>False</td>\n",
       "      <td>0.420</td>\n",
       "      <td>0.1660</td>\n",
       "      <td>-17.235</td>\n",
       "      <td>1</td>\n",
       "      <td>0.0763</td>\n",
       "      <td>0.9240</td>\n",
       "      <td>0.000006</td>\n",
       "      <td>0.1010</td>\n",
       "      <td>0.267</td>\n",
       "      <td>77.489</td>\n",
       "      <td>acoustic</td>\n",
       "    </tr>\n",
       "    <tr>\n",
       "      <th>2</th>\n",
       "      <td>1iJBSr7s7jYXzM8EGcbK5b</td>\n",
       "      <td>Ingrid Michaelson;ZAYN</td>\n",
       "      <td>To Begin Again</td>\n",
       "      <td>To Begin Again</td>\n",
       "      <td>57</td>\n",
       "      <td>210826</td>\n",
       "      <td>False</td>\n",
       "      <td>0.438</td>\n",
       "      <td>0.3590</td>\n",
       "      <td>-9.734</td>\n",
       "      <td>1</td>\n",
       "      <td>0.0557</td>\n",
       "      <td>0.2100</td>\n",
       "      <td>0.000000</td>\n",
       "      <td>0.1170</td>\n",
       "      <td>0.120</td>\n",
       "      <td>76.332</td>\n",
       "      <td>acoustic</td>\n",
       "    </tr>\n",
       "    <tr>\n",
       "      <th>3</th>\n",
       "      <td>6lfxq3CG4xtTiEg7opyCyx</td>\n",
       "      <td>Kina Grannis</td>\n",
       "      <td>Crazy Rich Asians (Original Motion Picture Sou...</td>\n",
       "      <td>Can't Help Falling In Love</td>\n",
       "      <td>71</td>\n",
       "      <td>201933</td>\n",
       "      <td>False</td>\n",
       "      <td>0.266</td>\n",
       "      <td>0.0596</td>\n",
       "      <td>-18.515</td>\n",
       "      <td>1</td>\n",
       "      <td>0.0363</td>\n",
       "      <td>0.9050</td>\n",
       "      <td>0.000071</td>\n",
       "      <td>0.1320</td>\n",
       "      <td>0.143</td>\n",
       "      <td>181.740</td>\n",
       "      <td>acoustic</td>\n",
       "    </tr>\n",
       "    <tr>\n",
       "      <th>4</th>\n",
       "      <td>5vjLSffimiIP26QG5WcN2K</td>\n",
       "      <td>Chord Overstreet</td>\n",
       "      <td>Hold On</td>\n",
       "      <td>Hold On</td>\n",
       "      <td>82</td>\n",
       "      <td>198853</td>\n",
       "      <td>False</td>\n",
       "      <td>0.618</td>\n",
       "      <td>0.4430</td>\n",
       "      <td>-9.681</td>\n",
       "      <td>1</td>\n",
       "      <td>0.0526</td>\n",
       "      <td>0.4690</td>\n",
       "      <td>0.000000</td>\n",
       "      <td>0.0829</td>\n",
       "      <td>0.167</td>\n",
       "      <td>119.949</td>\n",
       "      <td>acoustic</td>\n",
       "    </tr>\n",
       "  </tbody>\n",
       "</table>\n",
       "</div>"
      ],
      "text/plain": [
       "                 track_id                 artists  \\\n",
       "0  5SuOikwiRyPMVoIQDJUgSV             Gen Hoshino   \n",
       "1  4qPNDBW1i3p13qLCt0Ki3A            Ben Woodward   \n",
       "2  1iJBSr7s7jYXzM8EGcbK5b  Ingrid Michaelson;ZAYN   \n",
       "3  6lfxq3CG4xtTiEg7opyCyx            Kina Grannis   \n",
       "4  5vjLSffimiIP26QG5WcN2K        Chord Overstreet   \n",
       "\n",
       "                                          album_name  \\\n",
       "0                                             Comedy   \n",
       "1                                   Ghost (Acoustic)   \n",
       "2                                     To Begin Again   \n",
       "3  Crazy Rich Asians (Original Motion Picture Sou...   \n",
       "4                                            Hold On   \n",
       "\n",
       "                   track_name  popularity  duration_ms  explicit  \\\n",
       "0                      Comedy          73       230666     False   \n",
       "1            Ghost - Acoustic          55       149610     False   \n",
       "2              To Begin Again          57       210826     False   \n",
       "3  Can't Help Falling In Love          71       201933     False   \n",
       "4                     Hold On          82       198853     False   \n",
       "\n",
       "   danceability  energy  loudness  mode  speechiness  acousticness  \\\n",
       "0         0.676  0.4610    -6.746     0       0.1430        0.0322   \n",
       "1         0.420  0.1660   -17.235     1       0.0763        0.9240   \n",
       "2         0.438  0.3590    -9.734     1       0.0557        0.2100   \n",
       "3         0.266  0.0596   -18.515     1       0.0363        0.9050   \n",
       "4         0.618  0.4430    -9.681     1       0.0526        0.4690   \n",
       "\n",
       "   instrumentalness  liveness  valence    tempo track_genre  \n",
       "0          0.000001    0.3580    0.715   87.917    acoustic  \n",
       "1          0.000006    0.1010    0.267   77.489    acoustic  \n",
       "2          0.000000    0.1170    0.120   76.332    acoustic  \n",
       "3          0.000071    0.1320    0.143  181.740    acoustic  \n",
       "4          0.000000    0.0829    0.167  119.949    acoustic  "
      ]
     },
     "execution_count": 2,
     "metadata": {},
     "output_type": "execute_result"
    }
   ],
   "source": [
    "df = pd.read_csv('./data/cleaned_dataset.csv')\n",
    "df = df.drop(['time_signature', 'key'], axis=1)\n",
    "df.head(5)"
   ]
  },
  {
   "cell_type": "markdown",
   "metadata": {},
   "source": [
    "- Because dataset can contains duplicate rows that have the same song in different albums or singles, we need to remove these duplicates."
   ]
  },
  {
   "cell_type": "code",
   "execution_count": 3,
   "metadata": {},
   "outputs": [
    {
     "data": {
      "text/html": [
       "<div>\n",
       "<style scoped>\n",
       "    .dataframe tbody tr th:only-of-type {\n",
       "        vertical-align: middle;\n",
       "    }\n",
       "\n",
       "    .dataframe tbody tr th {\n",
       "        vertical-align: top;\n",
       "    }\n",
       "\n",
       "    .dataframe thead th {\n",
       "        text-align: right;\n",
       "    }\n",
       "</style>\n",
       "<table border=\"1\" class=\"dataframe\">\n",
       "  <thead>\n",
       "    <tr style=\"text-align: right;\">\n",
       "      <th></th>\n",
       "      <th>track_id</th>\n",
       "      <th>artists</th>\n",
       "      <th>album_name</th>\n",
       "      <th>track_name</th>\n",
       "      <th>popularity</th>\n",
       "      <th>duration_ms</th>\n",
       "      <th>explicit</th>\n",
       "      <th>danceability</th>\n",
       "      <th>energy</th>\n",
       "      <th>loudness</th>\n",
       "      <th>mode</th>\n",
       "      <th>speechiness</th>\n",
       "      <th>acousticness</th>\n",
       "      <th>instrumentalness</th>\n",
       "      <th>liveness</th>\n",
       "      <th>valence</th>\n",
       "      <th>tempo</th>\n",
       "      <th>track_genre</th>\n",
       "    </tr>\n",
       "  </thead>\n",
       "  <tbody>\n",
       "    <tr>\n",
       "      <th>0</th>\n",
       "      <td>5SuOikwiRyPMVoIQDJUgSV</td>\n",
       "      <td>Gen Hoshino</td>\n",
       "      <td>Comedy</td>\n",
       "      <td>Comedy</td>\n",
       "      <td>73</td>\n",
       "      <td>230666</td>\n",
       "      <td>False</td>\n",
       "      <td>0.676</td>\n",
       "      <td>0.4610</td>\n",
       "      <td>-6.746</td>\n",
       "      <td>0</td>\n",
       "      <td>0.1430</td>\n",
       "      <td>0.0322</td>\n",
       "      <td>0.000001</td>\n",
       "      <td>0.3580</td>\n",
       "      <td>0.715</td>\n",
       "      <td>87.917</td>\n",
       "      <td>acoustic</td>\n",
       "    </tr>\n",
       "    <tr>\n",
       "      <th>1</th>\n",
       "      <td>4qPNDBW1i3p13qLCt0Ki3A</td>\n",
       "      <td>Ben Woodward</td>\n",
       "      <td>Ghost (Acoustic)</td>\n",
       "      <td>Ghost - Acoustic</td>\n",
       "      <td>55</td>\n",
       "      <td>149610</td>\n",
       "      <td>False</td>\n",
       "      <td>0.420</td>\n",
       "      <td>0.1660</td>\n",
       "      <td>-17.235</td>\n",
       "      <td>1</td>\n",
       "      <td>0.0763</td>\n",
       "      <td>0.9240</td>\n",
       "      <td>0.000006</td>\n",
       "      <td>0.1010</td>\n",
       "      <td>0.267</td>\n",
       "      <td>77.489</td>\n",
       "      <td>acoustic</td>\n",
       "    </tr>\n",
       "    <tr>\n",
       "      <th>2</th>\n",
       "      <td>1iJBSr7s7jYXzM8EGcbK5b</td>\n",
       "      <td>Ingrid Michaelson;ZAYN</td>\n",
       "      <td>To Begin Again</td>\n",
       "      <td>To Begin Again</td>\n",
       "      <td>57</td>\n",
       "      <td>210826</td>\n",
       "      <td>False</td>\n",
       "      <td>0.438</td>\n",
       "      <td>0.3590</td>\n",
       "      <td>-9.734</td>\n",
       "      <td>1</td>\n",
       "      <td>0.0557</td>\n",
       "      <td>0.2100</td>\n",
       "      <td>0.000000</td>\n",
       "      <td>0.1170</td>\n",
       "      <td>0.120</td>\n",
       "      <td>76.332</td>\n",
       "      <td>acoustic</td>\n",
       "    </tr>\n",
       "    <tr>\n",
       "      <th>3</th>\n",
       "      <td>6lfxq3CG4xtTiEg7opyCyx</td>\n",
       "      <td>Kina Grannis</td>\n",
       "      <td>Crazy Rich Asians (Original Motion Picture Sou...</td>\n",
       "      <td>Can't Help Falling In Love</td>\n",
       "      <td>71</td>\n",
       "      <td>201933</td>\n",
       "      <td>False</td>\n",
       "      <td>0.266</td>\n",
       "      <td>0.0596</td>\n",
       "      <td>-18.515</td>\n",
       "      <td>1</td>\n",
       "      <td>0.0363</td>\n",
       "      <td>0.9050</td>\n",
       "      <td>0.000071</td>\n",
       "      <td>0.1320</td>\n",
       "      <td>0.143</td>\n",
       "      <td>181.740</td>\n",
       "      <td>acoustic</td>\n",
       "    </tr>\n",
       "    <tr>\n",
       "      <th>4</th>\n",
       "      <td>5vjLSffimiIP26QG5WcN2K</td>\n",
       "      <td>Chord Overstreet</td>\n",
       "      <td>Hold On</td>\n",
       "      <td>Hold On</td>\n",
       "      <td>82</td>\n",
       "      <td>198853</td>\n",
       "      <td>False</td>\n",
       "      <td>0.618</td>\n",
       "      <td>0.4430</td>\n",
       "      <td>-9.681</td>\n",
       "      <td>1</td>\n",
       "      <td>0.0526</td>\n",
       "      <td>0.4690</td>\n",
       "      <td>0.000000</td>\n",
       "      <td>0.0829</td>\n",
       "      <td>0.167</td>\n",
       "      <td>119.949</td>\n",
       "      <td>acoustic</td>\n",
       "    </tr>\n",
       "  </tbody>\n",
       "</table>\n",
       "</div>"
      ],
      "text/plain": [
       "                 track_id                 artists  \\\n",
       "0  5SuOikwiRyPMVoIQDJUgSV             Gen Hoshino   \n",
       "1  4qPNDBW1i3p13qLCt0Ki3A            Ben Woodward   \n",
       "2  1iJBSr7s7jYXzM8EGcbK5b  Ingrid Michaelson;ZAYN   \n",
       "3  6lfxq3CG4xtTiEg7opyCyx            Kina Grannis   \n",
       "4  5vjLSffimiIP26QG5WcN2K        Chord Overstreet   \n",
       "\n",
       "                                          album_name  \\\n",
       "0                                             Comedy   \n",
       "1                                   Ghost (Acoustic)   \n",
       "2                                     To Begin Again   \n",
       "3  Crazy Rich Asians (Original Motion Picture Sou...   \n",
       "4                                            Hold On   \n",
       "\n",
       "                   track_name  popularity  duration_ms  explicit  \\\n",
       "0                      Comedy          73       230666     False   \n",
       "1            Ghost - Acoustic          55       149610     False   \n",
       "2              To Begin Again          57       210826     False   \n",
       "3  Can't Help Falling In Love          71       201933     False   \n",
       "4                     Hold On          82       198853     False   \n",
       "\n",
       "   danceability  energy  loudness  mode  speechiness  acousticness  \\\n",
       "0         0.676  0.4610    -6.746     0       0.1430        0.0322   \n",
       "1         0.420  0.1660   -17.235     1       0.0763        0.9240   \n",
       "2         0.438  0.3590    -9.734     1       0.0557        0.2100   \n",
       "3         0.266  0.0596   -18.515     1       0.0363        0.9050   \n",
       "4         0.618  0.4430    -9.681     1       0.0526        0.4690   \n",
       "\n",
       "   instrumentalness  liveness  valence    tempo track_genre  \n",
       "0          0.000001    0.3580    0.715   87.917    acoustic  \n",
       "1          0.000006    0.1010    0.267   77.489    acoustic  \n",
       "2          0.000000    0.1170    0.120   76.332    acoustic  \n",
       "3          0.000071    0.1320    0.143  181.740    acoustic  \n",
       "4          0.000000    0.0829    0.167  119.949    acoustic  "
      ]
     },
     "execution_count": 3,
     "metadata": {},
     "output_type": "execute_result"
    }
   ],
   "source": [
    "df.drop_duplicates(subset=['track_id'], inplace=True)\n",
    "df.head(5)"
   ]
  },
  {
   "cell_type": "markdown",
   "metadata": {},
   "source": [
    "### \n",
    "### <span style='color:#2B9C15 '> 📕 Normalizing Data</span>\n",
    "\n",
    "To avoid the influence of different units of measurement, we need to normalize the data by these steps:\n",
    "\n",
    "- Utilize `MinMaxScaler` to normalize numerical features within the DataFrame.\n",
    "- Create a new DataFrame, `data_norm`, from the normalized data and set the `track_id` column as the index."
   ]
  },
  {
   "cell_type": "code",
   "execution_count": 4,
   "metadata": {},
   "outputs": [],
   "source": [
    "scaler = preprocessing.MinMaxScaler()\n",
    "\n",
    "numerical_cols = df.select_dtypes(include=np.number).columns\n",
    "data_norm = pd.DataFrame(scaler.fit_transform(df[numerical_cols]), columns=numerical_cols, index=df['track_id'])"
   ]
  },
  {
   "cell_type": "markdown",
   "metadata": {},
   "source": [
    "### \n",
    "### <span style='color:#2B9C15 '> 📕 Identify the track that the user has recently listened to.</span>\n",
    "- Identify the track that the user has recently listened to based on the song's name.\n",
    "- Retrieve the track_id corresponding to the mentioned track\n",
    "#### 👉 Assuming the user recently listened to the song \"Do Not Let Me Go.\""
   ]
  },
  {
   "cell_type": "code",
   "execution_count": 5,
   "metadata": {},
   "outputs": [],
   "source": [
    "# listTrackNameListened = ['Heavy Heart', 'Somebody Else - Acoustic', 'Always Be My Baby']\n",
    "trackNameListened = 'Do Not Let Me Go'\n",
    "track_id = df[(df['track_name'] == trackNameListened)][['track_id']]\n",
    "track_id = track_id.values[0][0]\n",
    "\n",
    "target_track = list(data_norm.loc[track_id])\n"
   ]
  },
  {
   "cell_type": "markdown",
   "metadata": {},
   "source": [
    "\n",
    "### \n",
    "### <span style='color:#2B9C15 '> 📕 Euclidean Distance Calculation</span>\n",
    "- Use a for loop to iterate through all rows in `data_norm`.\n",
    "- At each iteration, calculate the Euclidean distance between the feature vector of the considered track `obj` and the feature vector of the `target_track`.\n",
    "- The results are stored to the `euclidean` column of the DataFrame `data_result`."
   ]
  },
  {
   "cell_type": "code",
   "execution_count": 6,
   "metadata": {},
   "outputs": [],
   "source": [
    "data_result = pd.DataFrame()\n",
    "data_result['euclidean'] = [distance.euclidean(obj, target_track) for index, obj in data_norm.iterrows()]\n",
    "data_result['track_id'] = data_norm.index"
   ]
  },
  {
   "cell_type": "markdown",
   "metadata": {},
   "source": [
    "### The purpose of the chart\n",
    "\n",
    "- Provide an idea of the similarity or dissimilarity levels of paths compared to the target path. It shows trends in the distances between the target variables and the dataset.\n",
    "\n",
    "- Clusters in the chart may indicate groups of songs that are more similar. Peaks or modes in the chart can represent distinct groups or patterns in your data.\""
   ]
  },
  {
   "cell_type": "code",
   "execution_count": 7,
   "metadata": {},
   "outputs": [
    {
     "data": {
      "image/png": "[encoded data removed]",
      "text/plain": [
       "<Figure size 640x480 with 1 Axes>"
      ]
     },
     "metadata": {},
     "output_type": "display_data"
    }
   ],
   "source": [
    "\n",
    "plt.hist(data_result['euclidean'], bins=50, edgecolor='black')\n",
    "\n",
    "plt.xlabel('Euclidean Distance')\n",
    "plt.ylabel('Number')\n",
    "\n",
    "plt.title('Distribution Euclidean Distance')\n",
    "\n",
    "plt.show()"
   ]
  },
  {
   "cell_type": "markdown",
   "metadata": {},
   "source": [
    "### \n",
    "### <span style='color:#2B9C15 '> 📕 Get recommended tracks</span>\n",
    "\n",
    "- Sort the DataFrame `data_result` based on the `euclidean` column and select the top 6 tracks with the smallest distances (including itself)"
   ]
  },
  {
   "cell_type": "code",
   "execution_count": 8,
   "metadata": {},
   "outputs": [],
   "source": [
    "data_rec = data_result.sort_values(by=['euclidean']).iloc[:6]"
   ]
  },
  {
   "cell_type": "markdown",
   "metadata": {},
   "source": [
    "\n",
    "### \n",
    "### <span style='color:#2B9C15 '> 📕 Extract Information of Recommended Tracks</span>\n",
    "\n",
    "- Create a DataFrame `data_big` from the original dataset and set the 'track_id' column as the index.\n",
    "- Iterate through the recommended tracks, extract information about the song name and artist from the original DataFrame, and save it into the `track_list` DataFrame.\n"
   ]
  },
  {
   "cell_type": "code",
   "execution_count": 9,
   "metadata": {},
   "outputs": [],
   "source": [
    "data_init = df.set_index(df.loc[:, 'track_id'])\n",
    "track_list = pd.DataFrame()\n",
    "for i in list(data_rec.loc[:, 'track_id']):\n",
    "    if i in list(df.loc[:, 'track_id']):\n",
    "        track_info = data_init.loc[[i], ['track_name', 'artists']]\n",
    "        track_list = pd.concat([track_list, track_info], ignore_index=True)"
   ]
  },
  {
   "cell_type": "markdown",
   "metadata": {},
   "source": [
    "## \n",
    "\n",
    "<a class=\"anchor\" id=\"3\"></a>\n",
    "## <div style=\"text-align: left; background-color:#867FEE; font-family:newtimeroman;color: black; padding: 14px; line-height: 1;border-radius:10px\">3. Answer the question  </div>\n",
    "\n",
    "- Recommend the top 5 tracks for the user in descending order of similarity, based on the calculated Euclidean distances."
   ]
  },
  {
   "cell_type": "code",
   "execution_count": 10,
   "metadata": {},
   "outputs": [
    {
     "name": "stdout",
     "output_type": "stream",
     "text": [
      "You've just listened:  \n",
      " \t - Do Not Let Me Go - Joshua Hyslop \n",
      "Now you may listen : \n",
      "\n",
      " \t - 'Through the Barricades - Remastered - Spandau Ballet'\n",
      "Or any of:\n",
      "\n",
      " \t - 'A Pillow of Winds - Pink Floyd' \n",
      "\n",
      " \t - 'We Fall Down - Chris Tomlin'\n",
      "\n",
      " \t - 'How Long Will I Love You - Bonus Track - Ellie Goulding'\n",
      "\n",
      " \t - 'Hasta mi final - Il Divo'  \n"
     ]
    }
   ],
   "source": [
    "recomended = track_list.values.tolist()\n",
    "print(f\"\"\"You've just listened:  \\n \\t - {recomended[0][0]} - {recomended[0][1]} \n",
    "Now you may listen : \n",
    "\\n \\t - '{recomended[1][0]} - {recomended[1][1]}'\n",
    "Or any of:\n",
    "\\n \\t - '{recomended[2][0]} - {recomended[2][1]}' \n",
    "\\n \\t - '{recomended[3][0]} - {recomended[3][1]}'\n",
    "\\n \\t - '{recomended[4][0]} - {recomended[4][1]}'\n",
    "\\n \\t - '{recomended[5][0]} - {recomended[5][1]}'  \"\"\")"
   ]
  },
  {
   "cell_type": "markdown",
   "metadata": {},
   "source": [
    "<div style=\"text-align: left; background-color:#867FEE; font-family:Arial; color:black; padding: 12px; line-height:1.25;border-radius:1px; margin-bottom: 0em; text-align: center; font-size: 30px;border-style: solid;border-color: black;\">END</div>"
   ]
  }
 ],
 "metadata": {
  "kernelspec": {
   "display_name": "Python 3",
   "language": "python",
   "name": "python3"
  },
  "language_info": {
   "codemirror_mode": {
    "name": "ipython",
    "version": 3
   },
   "file_extension": ".py",
   "mimetype": "text/x-python",
   "name": "python",
   "nbconvert_exporter": "python",
   "pygments_lexer": "ipython3",
   "version": "3.9.18"
  }
 },
 "nbformat": 4,
 "nbformat_minor": 2
}
