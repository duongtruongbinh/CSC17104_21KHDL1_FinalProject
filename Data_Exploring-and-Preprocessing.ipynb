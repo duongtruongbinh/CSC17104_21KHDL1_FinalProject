{
 "cells": [
  {
   "cell_type": "markdown",
   "metadata": {},
   "source": [
    "\n",
    "# <p style=\"text-align: center;\"> <b> Exploring and Pre-processing Data </b></p>\n",
    "---"
   ]
  },
  {
   "cell_type": "markdown",
   "metadata": {},
   "source": [
    "## Table of Contents\n",
    "\n",
    "\n",
    "\n",
    "---"
   ]
  },
  {
   "cell_type": "markdown",
   "metadata": {},
   "source": [
    "### Import"
   ]
  },
  {
   "cell_type": "code",
   "execution_count": 34,
   "metadata": {},
   "outputs": [],
   "source": [
    "import warnings\n",
    "import numpy as np\n",
    "import pandas as pd\n",
    "import matplotlib.pyplot as plt\n",
    "import seaborn as sns\n",
    "import re"
   ]
  },
  {
   "cell_type": "code",
   "execution_count": 7,
   "metadata": {},
   "outputs": [
    {
     "data": {
      "text/html": [
       "<div>\n",
       "<style scoped>\n",
       "    .dataframe tbody tr th:only-of-type {\n",
       "        vertical-align: middle;\n",
       "    }\n",
       "\n",
       "    .dataframe tbody tr th {\n",
       "        vertical-align: top;\n",
       "    }\n",
       "\n",
       "    .dataframe thead th {\n",
       "        text-align: right;\n",
       "    }\n",
       "</style>\n",
       "<table border=\"1\" class=\"dataframe\">\n",
       "  <thead>\n",
       "    <tr style=\"text-align: right;\">\n",
       "      <th></th>\n",
       "      <th>Unnamed: 0</th>\n",
       "      <th>track_id</th>\n",
       "      <th>artists</th>\n",
       "      <th>album_name</th>\n",
       "      <th>track_name</th>\n",
       "      <th>popularity</th>\n",
       "      <th>duration_ms</th>\n",
       "      <th>explicit</th>\n",
       "      <th>danceability</th>\n",
       "      <th>energy</th>\n",
       "      <th>...</th>\n",
       "      <th>loudness</th>\n",
       "      <th>mode</th>\n",
       "      <th>speechiness</th>\n",
       "      <th>acousticness</th>\n",
       "      <th>instrumentalness</th>\n",
       "      <th>liveness</th>\n",
       "      <th>valence</th>\n",
       "      <th>tempo</th>\n",
       "      <th>time_signature</th>\n",
       "      <th>track_genre</th>\n",
       "    </tr>\n",
       "  </thead>\n",
       "  <tbody>\n",
       "    <tr>\n",
       "      <th>6003</th>\n",
       "      <td>6003</td>\n",
       "      <td>5FBToB2y0ie4fq3WjfsFFE</td>\n",
       "      <td>Sadness</td>\n",
       "      <td>I Want to Be There</td>\n",
       "      <td>I Want to Be with You</td>\n",
       "      <td>41</td>\n",
       "      <td>355474</td>\n",
       "      <td>False</td>\n",
       "      <td>0.144</td>\n",
       "      <td>0.466</td>\n",
       "      <td>...</td>\n",
       "      <td>-6.715</td>\n",
       "      <td>1</td>\n",
       "      <td>0.0522</td>\n",
       "      <td>0.6860</td>\n",
       "      <td>0.4230</td>\n",
       "      <td>0.0764</td>\n",
       "      <td>0.0737</td>\n",
       "      <td>87.290</td>\n",
       "      <td>4</td>\n",
       "      <td>black-metal</td>\n",
       "    </tr>\n",
       "    <tr>\n",
       "      <th>59555</th>\n",
       "      <td>59555</td>\n",
       "      <td>2m0UI048bqswNnDh0KZ7nX</td>\n",
       "      <td>Farzad Golpayegani</td>\n",
       "      <td>Six</td>\n",
       "      <td>95</td>\n",
       "      <td>3</td>\n",
       "      <td>209662</td>\n",
       "      <td>False</td>\n",
       "      <td>0.388</td>\n",
       "      <td>0.673</td>\n",
       "      <td>...</td>\n",
       "      <td>-6.223</td>\n",
       "      <td>0</td>\n",
       "      <td>0.0291</td>\n",
       "      <td>0.4460</td>\n",
       "      <td>0.0201</td>\n",
       "      <td>0.1830</td>\n",
       "      <td>0.2090</td>\n",
       "      <td>81.676</td>\n",
       "      <td>4</td>\n",
       "      <td>iranian</td>\n",
       "    </tr>\n",
       "    <tr>\n",
       "      <th>10211</th>\n",
       "      <td>10211</td>\n",
       "      <td>41dRg8nPgm974fD7sf9wvl</td>\n",
       "      <td>The Prodigy</td>\n",
       "      <td>The Fat of the Land</td>\n",
       "      <td>Serial Thrilla</td>\n",
       "      <td>45</td>\n",
       "      <td>311333</td>\n",
       "      <td>False</td>\n",
       "      <td>0.498</td>\n",
       "      <td>0.989</td>\n",
       "      <td>...</td>\n",
       "      <td>-5.635</td>\n",
       "      <td>0</td>\n",
       "      <td>0.1660</td>\n",
       "      <td>0.0259</td>\n",
       "      <td>0.5490</td>\n",
       "      <td>0.8880</td>\n",
       "      <td>0.0892</td>\n",
       "      <td>117.695</td>\n",
       "      <td>4</td>\n",
       "      <td>breakbeat</td>\n",
       "    </tr>\n",
       "    <tr>\n",
       "      <th>18037</th>\n",
       "      <td>18037</td>\n",
       "      <td>4MxrKIDN1NHlOUDerxpgxE</td>\n",
       "      <td>Katt Williams</td>\n",
       "      <td>Pimp Chronicles Pt.1</td>\n",
       "      <td>Government Is Pimps</td>\n",
       "      <td>28</td>\n",
       "      <td>236904</td>\n",
       "      <td>True</td>\n",
       "      <td>0.654</td>\n",
       "      <td>0.855</td>\n",
       "      <td>...</td>\n",
       "      <td>-13.881</td>\n",
       "      <td>1</td>\n",
       "      <td>0.9370</td>\n",
       "      <td>0.7950</td>\n",
       "      <td>0.0000</td>\n",
       "      <td>0.7470</td>\n",
       "      <td>0.4030</td>\n",
       "      <td>109.825</td>\n",
       "      <td>4</td>\n",
       "      <td>comedy</td>\n",
       "    </tr>\n",
       "    <tr>\n",
       "      <th>23225</th>\n",
       "      <td>23225</td>\n",
       "      <td>27ZhKzjHoE0UUlyMXu0ZFa</td>\n",
       "      <td>Klingande</td>\n",
       "      <td>The Album</td>\n",
       "      <td>Jubel</td>\n",
       "      <td>58</td>\n",
       "      <td>283638</td>\n",
       "      <td>False</td>\n",
       "      <td>0.698</td>\n",
       "      <td>0.476</td>\n",
       "      <td>...</td>\n",
       "      <td>-7.459</td>\n",
       "      <td>1</td>\n",
       "      <td>0.0417</td>\n",
       "      <td>0.1850</td>\n",
       "      <td>0.2380</td>\n",
       "      <td>0.0542</td>\n",
       "      <td>0.1810</td>\n",
       "      <td>124.986</td>\n",
       "      <td>4</td>\n",
       "      <td>deep-house</td>\n",
       "    </tr>\n",
       "  </tbody>\n",
       "</table>\n",
       "<p>5 rows × 21 columns</p>\n",
       "</div>"
      ],
      "text/plain": [
       "       Unnamed: 0                track_id             artists  \\\n",
       "6003         6003  5FBToB2y0ie4fq3WjfsFFE             Sadness   \n",
       "59555       59555  2m0UI048bqswNnDh0KZ7nX  Farzad Golpayegani   \n",
       "10211       10211  41dRg8nPgm974fD7sf9wvl         The Prodigy   \n",
       "18037       18037  4MxrKIDN1NHlOUDerxpgxE       Katt Williams   \n",
       "23225       23225  27ZhKzjHoE0UUlyMXu0ZFa           Klingande   \n",
       "\n",
       "                 album_name             track_name  popularity  duration_ms  \\\n",
       "6003     I Want to Be There  I Want to Be with You          41       355474   \n",
       "59555                   Six                     95           3       209662   \n",
       "10211   The Fat of the Land         Serial Thrilla          45       311333   \n",
       "18037  Pimp Chronicles Pt.1    Government Is Pimps          28       236904   \n",
       "23225             The Album                  Jubel          58       283638   \n",
       "\n",
       "       explicit  danceability  energy  ...  loudness  mode  speechiness  \\\n",
       "6003      False         0.144   0.466  ...    -6.715     1       0.0522   \n",
       "59555     False         0.388   0.673  ...    -6.223     0       0.0291   \n",
       "10211     False         0.498   0.989  ...    -5.635     0       0.1660   \n",
       "18037      True         0.654   0.855  ...   -13.881     1       0.9370   \n",
       "23225     False         0.698   0.476  ...    -7.459     1       0.0417   \n",
       "\n",
       "       acousticness  instrumentalness  liveness  valence    tempo  \\\n",
       "6003         0.6860            0.4230    0.0764   0.0737   87.290   \n",
       "59555        0.4460            0.0201    0.1830   0.2090   81.676   \n",
       "10211        0.0259            0.5490    0.8880   0.0892  117.695   \n",
       "18037        0.7950            0.0000    0.7470   0.4030  109.825   \n",
       "23225        0.1850            0.2380    0.0542   0.1810  124.986   \n",
       "\n",
       "       time_signature  track_genre  \n",
       "6003                4  black-metal  \n",
       "59555               4      iranian  \n",
       "10211               4    breakbeat  \n",
       "18037               4       comedy  \n",
       "23225               4   deep-house  \n",
       "\n",
       "[5 rows x 21 columns]"
      ]
     },
     "execution_count": 7,
     "metadata": {},
     "output_type": "execute_result"
    }
   ],
   "source": [
    "df = pd.read_csv('dataset.csv')\n",
    "\n",
    "df.sample(5)"
   ]
  },
  {
   "cell_type": "markdown",
   "metadata": {},
   "source": [
    "### Drop first column unnamed"
   ]
  },
  {
   "cell_type": "code",
   "execution_count": 8,
   "metadata": {},
   "outputs": [
    {
     "data": {
      "text/html": [
       "<div>\n",
       "<style scoped>\n",
       "    .dataframe tbody tr th:only-of-type {\n",
       "        vertical-align: middle;\n",
       "    }\n",
       "\n",
       "    .dataframe tbody tr th {\n",
       "        vertical-align: top;\n",
       "    }\n",
       "\n",
       "    .dataframe thead th {\n",
       "        text-align: right;\n",
       "    }\n",
       "</style>\n",
       "<table border=\"1\" class=\"dataframe\">\n",
       "  <thead>\n",
       "    <tr style=\"text-align: right;\">\n",
       "      <th></th>\n",
       "      <th>track_id</th>\n",
       "      <th>artists</th>\n",
       "      <th>album_name</th>\n",
       "      <th>track_name</th>\n",
       "      <th>popularity</th>\n",
       "      <th>duration_ms</th>\n",
       "      <th>explicit</th>\n",
       "      <th>danceability</th>\n",
       "      <th>energy</th>\n",
       "      <th>key</th>\n",
       "      <th>loudness</th>\n",
       "      <th>mode</th>\n",
       "      <th>speechiness</th>\n",
       "      <th>acousticness</th>\n",
       "      <th>instrumentalness</th>\n",
       "      <th>liveness</th>\n",
       "      <th>valence</th>\n",
       "      <th>tempo</th>\n",
       "      <th>time_signature</th>\n",
       "      <th>track_genre</th>\n",
       "    </tr>\n",
       "  </thead>\n",
       "  <tbody>\n",
       "    <tr>\n",
       "      <th>105089</th>\n",
       "      <td>6ovbhJchg5kGdayDjhUV60</td>\n",
       "      <td>PIÑA PINK</td>\n",
       "      <td>Lemonade Waves</td>\n",
       "      <td>Lemonade Waves</td>\n",
       "      <td>47</td>\n",
       "      <td>169090</td>\n",
       "      <td>False</td>\n",
       "      <td>0.694</td>\n",
       "      <td>0.343</td>\n",
       "      <td>8</td>\n",
       "      <td>-12.390</td>\n",
       "      <td>0</td>\n",
       "      <td>0.0463</td>\n",
       "      <td>0.84800</td>\n",
       "      <td>0.82000</td>\n",
       "      <td>0.6260</td>\n",
       "      <td>0.330</td>\n",
       "      <td>85.002</td>\n",
       "      <td>4</td>\n",
       "      <td>study</td>\n",
       "    </tr>\n",
       "    <tr>\n",
       "      <th>57337</th>\n",
       "      <td>02tWxsxgRYdquJqB4eT8Rv</td>\n",
       "      <td>Sanah Moidutty</td>\n",
       "      <td>Shyama Meghame (Reprised Version)</td>\n",
       "      <td>Shyama Meghame - Reprised Version</td>\n",
       "      <td>50</td>\n",
       "      <td>200295</td>\n",
       "      <td>False</td>\n",
       "      <td>0.748</td>\n",
       "      <td>0.570</td>\n",
       "      <td>6</td>\n",
       "      <td>-9.134</td>\n",
       "      <td>0</td>\n",
       "      <td>0.0530</td>\n",
       "      <td>0.48700</td>\n",
       "      <td>0.00237</td>\n",
       "      <td>0.0629</td>\n",
       "      <td>0.207</td>\n",
       "      <td>99.926</td>\n",
       "      <td>4</td>\n",
       "      <td>indie</td>\n",
       "    </tr>\n",
       "    <tr>\n",
       "      <th>38229</th>\n",
       "      <td>4N2yjWLIxZjOXDrCu2VlJe</td>\n",
       "      <td>Arctic Monkeys</td>\n",
       "      <td>Favourite Worst Nightmare</td>\n",
       "      <td>The Bad Thing</td>\n",
       "      <td>59</td>\n",
       "      <td>145213</td>\n",
       "      <td>False</td>\n",
       "      <td>0.550</td>\n",
       "      <td>0.952</td>\n",
       "      <td>2</td>\n",
       "      <td>-3.638</td>\n",
       "      <td>1</td>\n",
       "      <td>0.0750</td>\n",
       "      <td>0.00103</td>\n",
       "      <td>0.00000</td>\n",
       "      <td>0.2570</td>\n",
       "      <td>0.538</td>\n",
       "      <td>111.066</td>\n",
       "      <td>4</td>\n",
       "      <td>garage</td>\n",
       "    </tr>\n",
       "    <tr>\n",
       "      <th>11774</th>\n",
       "      <td>7fO6hgP2MnAjVtSxResRw2</td>\n",
       "      <td>Peter And Gordon</td>\n",
       "      <td>Peter And Gordon</td>\n",
       "      <td>A World Without Love</td>\n",
       "      <td>51</td>\n",
       "      <td>164760</td>\n",
       "      <td>False</td>\n",
       "      <td>0.548</td>\n",
       "      <td>0.827</td>\n",
       "      <td>4</td>\n",
       "      <td>-6.197</td>\n",
       "      <td>1</td>\n",
       "      <td>0.0336</td>\n",
       "      <td>0.14700</td>\n",
       "      <td>0.00000</td>\n",
       "      <td>0.1470</td>\n",
       "      <td>0.777</td>\n",
       "      <td>130.043</td>\n",
       "      <td>4</td>\n",
       "      <td>british</td>\n",
       "    </tr>\n",
       "    <tr>\n",
       "      <th>4990</th>\n",
       "      <td>2Iq6Tyb3llyf5bXYMotApc</td>\n",
       "      <td>Jean-Michel Blais</td>\n",
       "      <td>Dans ma main</td>\n",
       "      <td>igloo</td>\n",
       "      <td>23</td>\n",
       "      <td>274946</td>\n",
       "      <td>False</td>\n",
       "      <td>0.438</td>\n",
       "      <td>0.389</td>\n",
       "      <td>1</td>\n",
       "      <td>-15.695</td>\n",
       "      <td>0</td>\n",
       "      <td>0.0403</td>\n",
       "      <td>0.88800</td>\n",
       "      <td>0.88500</td>\n",
       "      <td>0.1060</td>\n",
       "      <td>0.230</td>\n",
       "      <td>84.066</td>\n",
       "      <td>4</td>\n",
       "      <td>ambient</td>\n",
       "    </tr>\n",
       "  </tbody>\n",
       "</table>\n",
       "</div>"
      ],
      "text/plain": [
       "                      track_id            artists  \\\n",
       "105089  6ovbhJchg5kGdayDjhUV60          PIÑA PINK   \n",
       "57337   02tWxsxgRYdquJqB4eT8Rv     Sanah Moidutty   \n",
       "38229   4N2yjWLIxZjOXDrCu2VlJe     Arctic Monkeys   \n",
       "11774   7fO6hgP2MnAjVtSxResRw2   Peter And Gordon   \n",
       "4990    2Iq6Tyb3llyf5bXYMotApc  Jean-Michel Blais   \n",
       "\n",
       "                               album_name                         track_name  \\\n",
       "105089                     Lemonade Waves                     Lemonade Waves   \n",
       "57337   Shyama Meghame (Reprised Version)  Shyama Meghame - Reprised Version   \n",
       "38229           Favourite Worst Nightmare                      The Bad Thing   \n",
       "11774                    Peter And Gordon               A World Without Love   \n",
       "4990                         Dans ma main                              igloo   \n",
       "\n",
       "        popularity  duration_ms  explicit  danceability  energy  key  \\\n",
       "105089          47       169090     False         0.694   0.343    8   \n",
       "57337           50       200295     False         0.748   0.570    6   \n",
       "38229           59       145213     False         0.550   0.952    2   \n",
       "11774           51       164760     False         0.548   0.827    4   \n",
       "4990            23       274946     False         0.438   0.389    1   \n",
       "\n",
       "        loudness  mode  speechiness  acousticness  instrumentalness  liveness  \\\n",
       "105089   -12.390     0       0.0463       0.84800           0.82000    0.6260   \n",
       "57337     -9.134     0       0.0530       0.48700           0.00237    0.0629   \n",
       "38229     -3.638     1       0.0750       0.00103           0.00000    0.2570   \n",
       "11774     -6.197     1       0.0336       0.14700           0.00000    0.1470   \n",
       "4990     -15.695     0       0.0403       0.88800           0.88500    0.1060   \n",
       "\n",
       "        valence    tempo  time_signature track_genre  \n",
       "105089    0.330   85.002               4       study  \n",
       "57337     0.207   99.926               4       indie  \n",
       "38229     0.538  111.066               4      garage  \n",
       "11774     0.777  130.043               4     british  \n",
       "4990      0.230   84.066               4     ambient  "
      ]
     },
     "execution_count": 8,
     "metadata": {},
     "output_type": "execute_result"
    }
   ],
   "source": [
    "df.drop(columns=df.columns[0], axis=1, inplace=True)\n",
    "df.sample(5)"
   ]
  },
  {
   "cell_type": "markdown",
   "metadata": {},
   "source": [
    "### How many rows and columns?"
   ]
  },
  {
   "cell_type": "code",
   "execution_count": 9,
   "metadata": {},
   "outputs": [
    {
     "data": {
      "text/plain": [
       "(114000, 20)"
      ]
     },
     "execution_count": 9,
     "metadata": {},
     "output_type": "execute_result"
    }
   ],
   "source": [
    "df.shape"
   ]
  },
  {
   "cell_type": "markdown",
   "metadata": {},
   "source": [
    "- Number of rows: 114000\n",
    "\n",
    "- Number of columns: 20"
   ]
  },
  {
   "cell_type": "markdown",
   "metadata": {},
   "source": [
    "### What is the meaning of each row?"
   ]
  },
  {
   "cell_type": "markdown",
   "metadata": {},
   "source": [
    "- A row represents the information of a song(track_name, album_name, artists,...) and some of its properties in Spotify"
   ]
  },
  {
   "cell_type": "markdown",
   "metadata": {},
   "source": [
    "### Are there duplicated rows?"
   ]
  },
  {
   "cell_type": "code",
   "execution_count": 10,
   "metadata": {},
   "outputs": [
    {
     "data": {
      "text/plain": [
       "450"
      ]
     },
     "execution_count": 10,
     "metadata": {},
     "output_type": "execute_result"
    }
   ],
   "source": [
    "df.duplicated().sum()"
   ]
  },
  {
   "cell_type": "markdown",
   "metadata": {},
   "source": [
    "- There are 450 duplicated rows"
   ]
  },
  {
   "cell_type": "markdown",
   "metadata": {},
   "source": [
    "### Drop duplicated rows"
   ]
  },
  {
   "cell_type": "code",
   "execution_count": 11,
   "metadata": {},
   "outputs": [
    {
     "data": {
      "text/plain": [
       "0"
      ]
     },
     "execution_count": 11,
     "metadata": {},
     "output_type": "execute_result"
    }
   ],
   "source": [
    "df.drop_duplicates(inplace=True)\n",
    "df.duplicated().sum()"
   ]
  },
  {
   "cell_type": "markdown",
   "metadata": {},
   "source": [
    "- There is no duplicated rows"
   ]
  },
  {
   "cell_type": "markdown",
   "metadata": {},
   "source": [
    "### What is the meaning of each colum?"
   ]
  },
  {
   "cell_type": "markdown",
   "metadata": {},
   "source": [
    "- `track_id`: The Spotify ID for the track\n",
    "\n",
    "- `artists`: The artists' names who performed the track. If there is more than one artist, they are separated by a ;\n",
    "\n",
    "- `album_name`: The album name in which the track appears\n",
    "\n",
    "- `track_name`: Name of the track\n",
    "\n",
    "- `popularity`: **The popularity of a track is a value between 0 and 100, with 100 being the most popular**. The popularity is calculated by algorithm and is based, in the most part, on the total number of plays the track has had and how recent those plays are. Generally speaking, songs that are being played a lot now will have a higher popularity than songs that were played a lot in the past. Duplicate tracks (e.g. the same track from a single and an album) are rated independently. Artist and album popularity is derived mathematically from track popularity.\n",
    "\n",
    "- `duration_ms`: The track length in milliseconds\n",
    "\n",
    "- `explicit`: Whether or not the track has explicit lyrics (true = yes it does; false = no it does not OR unknown)\n",
    "\n",
    "- `danceability`: Danceability describes how suitable a track is for dancing based on a combination of musical elements including tempo, rhythm stability, beat strength, and overall regularity. A value of 0.0 is least danceable and 1.0 is most danceable\n",
    "\n",
    "- `energy`: Energy is a measure from 0.0 to 1.0 and represents a perceptual measure of intensity and activity. Typically, energetic tracks feel fast, loud, and noisy. For example, death metal has high energy, while a Bach prelude scores low on the scale\n",
    "\n",
    "- `key`: The key the track is in. Integers map to pitches using standard Pitch Class notation. E.g. 0 = C, 1 = C♯/D♭, 2 = D, and so on. If no key was detected, the value is -1\n",
    "\n",
    "- `loudness`: The overall loudness of a track in decibels (dB)\n",
    "\n",
    "- `mode`: Mode indicates the modality (major or minor) of a track, the type of scale from which its melodic content is derived. Major is represented by 1 and minor is 0\n",
    "\n",
    "- `speechiness`: Speechiness detects the presence of spoken words in a track. The more exclusively speech-like the recording (e.g. talk show, audio book, poetry), the closer to 1.0 the attribute value. Values above 0.66 describe tracks that are probably made entirely of spoken words. Values between 0.33 and 0.66 describe tracks that may contain both music and speech, either in sections or layered, including such cases as rap music. Values below 0.33 most likely represent music and other non-speech-like tracks\n",
    "\n",
    "- `acousticness`: A confidence measure from 0.0 to 1.0 of whether the track is acoustic. 1.0 represents high confidence the track is acoustic\n",
    "\n",
    "- `instrumentalness`: Predicts whether a track contains no vocals. \"Ooh\" and \"aah\" sounds are treated as instrumental in this context. Rap or spoken word tracks are clearly \"vocal\". The closer the instrumentalness value is to 1.0, the greater likelihood the track contains no vocal content\n",
    "\n",
    "- `liveness`: Detects the presence of an audience in the recording. Higher liveness values represent an increased probability that the track was performed live. A value above 0.8 provides strong likelihood that the track is live\n",
    "\n",
    "- `valence`: A measure from 0.0 to 1.0 describing the musical positiveness conveyed by a track. Tracks with high valence sound more positive (e.g. happy, cheerful, euphoric), while tracks with low valence sound more negative (e.g. sad, depressed, angry)\n",
    "\n",
    "- `tempo`: The overall estimated tempo of a track in beats per minute (BPM). In musical terminology, tempo is the speed or pace of a given piece and derives directly from the average beat duration\n",
    "\n",
    "- `time_signature`: An estimated time signature. The time signature (meter) is a notational convention to specify how many beats are in each bar (or measure). The time signature ranges from 3 to 7 indicating time signatures of 3/4, to 7/4.\n",
    "\n",
    "- `track_genre`: The genre in which the track belongs"
   ]
  },
  {
   "cell_type": "markdown",
   "metadata": {},
   "source": [
    "### What is the current data type of each column? Are there any columns having inappropriate data types?"
   ]
  },
  {
   "cell_type": "code",
   "execution_count": 12,
   "metadata": {},
   "outputs": [
    {
     "data": {
      "text/plain": [
       "track_id             object\n",
       "artists              object\n",
       "album_name           object\n",
       "track_name           object\n",
       "popularity            int64\n",
       "duration_ms           int64\n",
       "explicit               bool\n",
       "danceability        float64\n",
       "energy              float64\n",
       "key                   int64\n",
       "loudness            float64\n",
       "mode                  int64\n",
       "speechiness         float64\n",
       "acousticness        float64\n",
       "instrumentalness    float64\n",
       "liveness            float64\n",
       "valence             float64\n",
       "tempo               float64\n",
       "time_signature        int64\n",
       "track_genre          object\n",
       "dtype: object"
      ]
     },
     "execution_count": 12,
     "metadata": {},
     "output_type": "execute_result"
    }
   ],
   "source": [
    "df.dtypes"
   ]
  },
  {
   "cell_type": "markdown",
   "metadata": {},
   "source": [
    "There are some inapropriate columns' data types:\n",
    "\n",
    "- `track_id, artists, album_name, track_name, track_genre` are String"
   ]
  },
  {
   "cell_type": "markdown",
   "metadata": {},
   "source": [
    "Convert to correct data types"
   ]
  },
  {
   "cell_type": "code",
   "execution_count": 13,
   "metadata": {},
   "outputs": [],
   "source": [
    "obj_to_str_cols = ['track_id', 'artists', 'album_name', 'track_name', 'track_genre']\n",
    "\n",
    "df[obj_to_str_cols] = df[obj_to_str_cols].astype(str)"
   ]
  },
  {
   "cell_type": "code",
   "execution_count": 14,
   "metadata": {},
   "outputs": [
    {
     "data": {
      "text/plain": [
       "track_id             object\n",
       "artists              object\n",
       "album_name           object\n",
       "track_name           object\n",
       "popularity            int64\n",
       "duration_ms           int64\n",
       "explicit               bool\n",
       "danceability        float64\n",
       "energy              float64\n",
       "key                   int64\n",
       "loudness            float64\n",
       "mode                  int64\n",
       "speechiness         float64\n",
       "acousticness        float64\n",
       "instrumentalness    float64\n",
       "liveness            float64\n",
       "valence             float64\n",
       "tempo               float64\n",
       "time_signature        int64\n",
       "track_genre          object\n",
       "dtype: object"
      ]
     },
     "execution_count": 14,
     "metadata": {},
     "output_type": "execute_result"
    }
   ],
   "source": [
    "df.dtypes"
   ]
  },
  {
   "cell_type": "markdown",
   "metadata": {},
   "source": [
    "## 02. Data Distribution"
   ]
  },
  {
   "cell_type": "markdown",
   "metadata": {},
   "source": [
    "### 02.1.1 Distribution of a numerical column"
   ]
  },
  {
   "cell_type": "markdown",
   "metadata": {},
   "source": [
    "### 02.1.2 Distribution of a categorical column"
   ]
  },
  {
   "cell_type": "markdown",
   "metadata": {},
   "source": [
    "- 5 samples of categorical columns"
   ]
  },
  {
   "cell_type": "code",
   "execution_count": 15,
   "metadata": {},
   "outputs": [
    {
     "data": {
      "text/html": [
       "<div>\n",
       "<style scoped>\n",
       "    .dataframe tbody tr th:only-of-type {\n",
       "        vertical-align: middle;\n",
       "    }\n",
       "\n",
       "    .dataframe tbody tr th {\n",
       "        vertical-align: top;\n",
       "    }\n",
       "\n",
       "    .dataframe thead th {\n",
       "        text-align: right;\n",
       "    }\n",
       "</style>\n",
       "<table border=\"1\" class=\"dataframe\">\n",
       "  <thead>\n",
       "    <tr style=\"text-align: right;\">\n",
       "      <th></th>\n",
       "      <th>track_id</th>\n",
       "      <th>artists</th>\n",
       "      <th>album_name</th>\n",
       "      <th>track_name</th>\n",
       "      <th>explicit</th>\n",
       "      <th>track_genre</th>\n",
       "    </tr>\n",
       "  </thead>\n",
       "  <tbody>\n",
       "    <tr>\n",
       "      <th>103266</th>\n",
       "      <td>0fFc6B373n7kxHdNewITLQ</td>\n",
       "      <td>The Temptations</td>\n",
       "      <td>Best Christmas Songs 2022</td>\n",
       "      <td>Silent Night</td>\n",
       "      <td>False</td>\n",
       "      <td>soul</td>\n",
       "    </tr>\n",
       "    <tr>\n",
       "      <th>104409</th>\n",
       "      <td>1Wrzhfa5bNlqvsnCztz190</td>\n",
       "      <td>Hombres G</td>\n",
       "      <td>Hombres G (Edición 30 Aniversario)</td>\n",
       "      <td>Devuélveme a mi chica</td>\n",
       "      <td>False</td>\n",
       "      <td>spanish</td>\n",
       "    </tr>\n",
       "    <tr>\n",
       "      <th>68055</th>\n",
       "      <td>3LaQzvfIetBWdtIV0JoBwF</td>\n",
       "      <td>J Balvin;Bad Bunny;Mr Eazi</td>\n",
       "      <td>Feliz Cumpleaños con Perreo</td>\n",
       "      <td>COMO UN BEBÉ</td>\n",
       "      <td>False</td>\n",
       "      <td>latino</td>\n",
       "    </tr>\n",
       "    <tr>\n",
       "      <th>5099</th>\n",
       "      <td>1alTFChaR599v3YgjecITE</td>\n",
       "      <td>[Alexandros]</td>\n",
       "      <td>TOKYO - HALLOWEEN -</td>\n",
       "      <td>閃光</td>\n",
       "      <td>False</td>\n",
       "      <td>anime</td>\n",
       "    </tr>\n",
       "    <tr>\n",
       "      <th>34270</th>\n",
       "      <td>5Y9tt5BF9cjF5tfVoknQxl</td>\n",
       "      <td>Salim–Sulaiman</td>\n",
       "      <td>Dor (Original Motion Picture Soundtrack)</td>\n",
       "      <td>Yeh Honsla</td>\n",
       "      <td>False</td>\n",
       "      <td>folk</td>\n",
       "    </tr>\n",
       "  </tbody>\n",
       "</table>\n",
       "</div>"
      ],
      "text/plain": [
       "                      track_id                     artists  \\\n",
       "103266  0fFc6B373n7kxHdNewITLQ             The Temptations   \n",
       "104409  1Wrzhfa5bNlqvsnCztz190                   Hombres G   \n",
       "68055   3LaQzvfIetBWdtIV0JoBwF  J Balvin;Bad Bunny;Mr Eazi   \n",
       "5099    1alTFChaR599v3YgjecITE                [Alexandros]   \n",
       "34270   5Y9tt5BF9cjF5tfVoknQxl              Salim–Sulaiman   \n",
       "\n",
       "                                      album_name             track_name  \\\n",
       "103266                 Best Christmas Songs 2022           Silent Night   \n",
       "104409        Hombres G (Edición 30 Aniversario)  Devuélveme a mi chica   \n",
       "68055                Feliz Cumpleaños con Perreo           COMO UN BEBÉ   \n",
       "5099                         TOKYO - HALLOWEEN -                     閃光   \n",
       "34270   Dor (Original Motion Picture Soundtrack)             Yeh Honsla   \n",
       "\n",
       "        explicit track_genre  \n",
       "103266     False        soul  \n",
       "104409     False     spanish  \n",
       "68055      False      latino  \n",
       "5099       False       anime  \n",
       "34270      False        folk  "
      ]
     },
     "execution_count": 15,
     "metadata": {},
     "output_type": "execute_result"
    }
   ],
   "source": [
    "categorical_cols = df[df.columns[(df.dtypes == 'object') | (df.dtypes == 'bool')]]\n",
    "categorical_cols.sample(5)"
   ]
  },
  {
   "cell_type": "markdown",
   "metadata": {},
   "source": [
    "- The categorical columns consist of 5 object columns and 1 boolean column.\n",
    "- All are non-null."
   ]
  },
  {
   "cell_type": "code",
   "execution_count": 16,
   "metadata": {},
   "outputs": [
    {
     "name": "stdout",
     "output_type": "stream",
     "text": [
      "<class 'pandas.core.frame.DataFrame'>\n",
      "Index: 113550 entries, 0 to 113999\n",
      "Data columns (total 6 columns):\n",
      " #   Column       Non-Null Count   Dtype \n",
      "---  ------       --------------   ----- \n",
      " 0   track_id     113550 non-null  object\n",
      " 1   artists      113550 non-null  object\n",
      " 2   album_name   113550 non-null  object\n",
      " 3   track_name   113550 non-null  object\n",
      " 4   explicit     113550 non-null  bool  \n",
      " 5   track_genre  113550 non-null  object\n",
      "dtypes: bool(1), object(5)\n",
      "memory usage: 5.3+ MB\n"
     ]
    }
   ],
   "source": [
    "categorical_cols.info()"
   ]
  },
  {
   "cell_type": "markdown",
   "metadata": {},
   "source": [
    "- Missing values = 1"
   ]
  },
  {
   "cell_type": "code",
   "execution_count": 83,
   "metadata": {},
   "outputs": [
    {
     "data": {
      "text/plain": [
       "track_id       0\n",
       "artists        1\n",
       "album_name     1\n",
       "track_name     1\n",
       "explicit       0\n",
       "track_genre    0\n",
       "dtype: int64"
      ]
     },
     "execution_count": 83,
     "metadata": {},
     "output_type": "execute_result"
    }
   ],
   "source": [
    "(categorical_cols == 'nan').sum()\n"
   ]
  },
  {
   "cell_type": "code",
   "execution_count": 84,
   "metadata": {},
   "outputs": [
    {
     "data": {
      "text/html": [
       "<div>\n",
       "<style scoped>\n",
       "    .dataframe tbody tr th:only-of-type {\n",
       "        vertical-align: middle;\n",
       "    }\n",
       "\n",
       "    .dataframe tbody tr th {\n",
       "        vertical-align: top;\n",
       "    }\n",
       "\n",
       "    .dataframe thead th {\n",
       "        text-align: right;\n",
       "    }\n",
       "</style>\n",
       "<table border=\"1\" class=\"dataframe\">\n",
       "  <thead>\n",
       "    <tr style=\"text-align: right;\">\n",
       "      <th></th>\n",
       "      <th>track_id</th>\n",
       "      <th>artists</th>\n",
       "      <th>album_name</th>\n",
       "      <th>track_name</th>\n",
       "      <th>explicit</th>\n",
       "      <th>track_genre</th>\n",
       "    </tr>\n",
       "  </thead>\n",
       "  <tbody>\n",
       "    <tr>\n",
       "      <th>65900</th>\n",
       "      <td>1kR4gIb7nGxHPI3D2ifs59</td>\n",
       "      <td>nan</td>\n",
       "      <td>nan</td>\n",
       "      <td>nan</td>\n",
       "      <td>False</td>\n",
       "      <td>k-pop</td>\n",
       "    </tr>\n",
       "  </tbody>\n",
       "</table>\n",
       "</div>"
      ],
      "text/plain": [
       "                     track_id artists album_name track_name  explicit  \\\n",
       "65900  1kR4gIb7nGxHPI3D2ifs59     nan        nan        nan     False   \n",
       "\n",
       "      track_genre  \n",
       "65900       k-pop  "
      ]
     },
     "execution_count": 84,
     "metadata": {},
     "output_type": "execute_result"
    }
   ],
   "source": [
    "categorical_cols[categorical_cols['track_name'] == 'nan']"
   ]
  },
  {
   "cell_type": "markdown",
   "metadata": {},
   "source": [
    "**These are concise statistics about the columns**\n",
    "- `count`: the number of values in each column\n",
    "- `unique`: the number of unique values\n",
    "- `top`: the most frequently occurring value\n",
    "- `freq`: the frequency"
   ]
  },
  {
   "cell_type": "code",
   "execution_count": 18,
   "metadata": {},
   "outputs": [
    {
     "data": {
      "text/html": [
       "<div>\n",
       "<style scoped>\n",
       "    .dataframe tbody tr th:only-of-type {\n",
       "        vertical-align: middle;\n",
       "    }\n",
       "\n",
       "    .dataframe tbody tr th {\n",
       "        vertical-align: top;\n",
       "    }\n",
       "\n",
       "    .dataframe thead th {\n",
       "        text-align: right;\n",
       "    }\n",
       "</style>\n",
       "<table border=\"1\" class=\"dataframe\">\n",
       "  <thead>\n",
       "    <tr style=\"text-align: right;\">\n",
       "      <th></th>\n",
       "      <th>track_id</th>\n",
       "      <th>artists</th>\n",
       "      <th>album_name</th>\n",
       "      <th>track_name</th>\n",
       "      <th>explicit</th>\n",
       "      <th>track_genre</th>\n",
       "    </tr>\n",
       "  </thead>\n",
       "  <tbody>\n",
       "    <tr>\n",
       "      <th>count</th>\n",
       "      <td>113550</td>\n",
       "      <td>113550</td>\n",
       "      <td>113550</td>\n",
       "      <td>113550</td>\n",
       "      <td>113550</td>\n",
       "      <td>113550</td>\n",
       "    </tr>\n",
       "    <tr>\n",
       "      <th>unique</th>\n",
       "      <td>89741</td>\n",
       "      <td>31438</td>\n",
       "      <td>46590</td>\n",
       "      <td>73609</td>\n",
       "      <td>2</td>\n",
       "      <td>114</td>\n",
       "    </tr>\n",
       "    <tr>\n",
       "      <th>top</th>\n",
       "      <td>6S3JlDAGk3uu3NtZbPnuhS</td>\n",
       "      <td>The Beatles</td>\n",
       "      <td>Alternative Christmas 2022</td>\n",
       "      <td>Run Rudolph Run</td>\n",
       "      <td>False</td>\n",
       "      <td>acoustic</td>\n",
       "    </tr>\n",
       "    <tr>\n",
       "      <th>freq</th>\n",
       "      <td>9</td>\n",
       "      <td>279</td>\n",
       "      <td>195</td>\n",
       "      <td>151</td>\n",
       "      <td>103832</td>\n",
       "      <td>1000</td>\n",
       "    </tr>\n",
       "  </tbody>\n",
       "</table>\n",
       "</div>"
      ],
      "text/plain": [
       "                      track_id      artists                  album_name  \\\n",
       "count                   113550       113550                      113550   \n",
       "unique                   89741        31438                       46590   \n",
       "top     6S3JlDAGk3uu3NtZbPnuhS  The Beatles  Alternative Christmas 2022   \n",
       "freq                         9          279                         195   \n",
       "\n",
       "             track_name explicit track_genre  \n",
       "count            113550   113550      113550  \n",
       "unique            73609        2         114  \n",
       "top     Run Rudolph Run    False    acoustic  \n",
       "freq                151   103832        1000  "
      ]
     },
     "execution_count": 18,
     "metadata": {},
     "output_type": "execute_result"
    }
   ],
   "source": [
    "df.describe(include=['object', 'bool'])"
   ]
  },
  {
   "cell_type": "markdown",
   "metadata": {},
   "source": [
    "**Observation:**\n",
    "- Some tracks have multiple entries, as the count is higher than the unique \n",
    "- \"The Beatles\" is the top artist with a relatively high frequency.\n",
    "- The top album is \"Alternative Christmas 2022\" with a frequency of 195.\n",
    "- \"Run Rudolph Run\" is the most frequently occurring track.\n",
    "- The majority of tracks (103,832) are not explicit (lyrics).\n",
    "- \"Acoustic\" is the most frequent track genre."
   ]
  },
  {
   "cell_type": "markdown",
   "metadata": {},
   "source": [
    "---\n",
    "\n"
   ]
  },
  {
   "cell_type": "markdown",
   "metadata": {},
   "source": [
    "## Visualize the data"
   ]
  },
  {
   "cell_type": "code",
   "execution_count": 19,
   "metadata": {},
   "outputs": [
    {
     "data": {
      "image/png": "[encoded data removed]",
      "text/plain": [
       "<Figure size 500x500 with 1 Axes>"
      ]
     },
     "metadata": {},
     "output_type": "display_data"
    }
   ],
   "source": [
    "plt.figure(figsize=(5, 5))\n",
    "plt.title('explicit')\n",
    "plt.pie(np.unique(categorical_cols['explicit'], return_counts=True)[1], labels=np.unique(categorical_cols['explicit'], return_counts=True)[0], autopct = '%1.2f%%');\n"
   ]
  },
  {
   "cell_type": "code",
   "execution_count": 91,
   "metadata": {},
   "outputs": [
    {
     "data": {
      "image/png": "[encoded data removed]",
      "text/plain": [
       "<Figure size 1500x1200 with 4 Axes>"
      ]
     },
     "metadata": {},
     "output_type": "display_data"
    }
   ],
   "source": [
    "# Assuming df is your DataFrame\n",
    "top_n = 5\n",
    "\n",
    "# Get the top N most frequent artists, albums, tracks, and genres\n",
    "top_artists = df['artists'].value_counts().head(top_n)\n",
    "top_albums = df['album_name'].value_counts().head(top_n)\n",
    "top_tracks = df['track_name'].value_counts().head(top_n)\n",
    "top_genres = df['track_genre'].value_counts().head(top_n)\n",
    "\n",
    "# Disable FutureWarning\n",
    "with warnings.catch_warnings():\n",
    "    warnings.simplefilter(\"ignore\", category=FutureWarning)\n",
    "\n",
    "    # Plotting\n",
    "    fig, axes = plt.subplots(nrows=2, ncols=2, figsize=(15, 12))\n",
    "\n",
    "    # Top N Artists\n",
    "    sns.barplot(x=top_artists.index, y=top_artists.values, palette=\"viridis\", ax=axes[0, 0], width=0.8,zorder=3)\n",
    "    axes[0, 0].set_title(f'Top {top_n} Artists')\n",
    "    axes[0, 0].set_xlabel('Frequency')\n",
    "    axes[0, 0].tick_params(axis='x', rotation=30)\n",
    "    axes[0, 0].yaxis.grid(linestyle='-', linewidth=0.5, alpha=1, zorder=0)\n",
    "\n",
    "    # Top N Albums\n",
    "    sns.barplot(x=top_albums.index, y=top_albums.values, palette=\"viridis\", ax=axes[0, 1], width=0.8,zorder=3)\n",
    "    axes[0, 1].set_title(f'Top {top_n} Albums')\n",
    "    axes[0, 1].set_xlabel('Frequency')\n",
    "    axes[0, 1].tick_params(axis='x', rotation=30)\n",
    "    axes[0, 1].yaxis.grid(linestyle='-', linewidth=0.5, alpha=1, zorder=0)\n",
    "\n",
    "    # Top N Tracks\n",
    "    sns.barplot(x=top_tracks.index, y=top_tracks.values, palette=\"viridis\", ax=axes[1, 0], width=0.8,zorder=3)\n",
    "    axes[1, 0].set_title(f'Top {top_n} Tracks')\n",
    "    axes[1, 0].set_xlabel('Frequency')\n",
    "    axes[1, 0].tick_params(axis='x', rotation=30)\n",
    "    axes[1, 0].yaxis.grid(linestyle='-', linewidth=0.5, alpha=1, zorder=0)\n",
    "\n",
    "    # Top N Genres\n",
    "    sns.barplot(x=top_genres.index, y=top_genres.values, palette=\"viridis\", ax=axes[1, 1], width=0.8,zorder=3)\n",
    "    axes[1, 1].set_title(f'Top {top_n} Genres')\n",
    "    axes[1, 1].set_xlabel('Frequency')\n",
    "    axes[1, 1].tick_params(axis='x', rotation=30)\n",
    "    axes[1, 1].yaxis.grid(linestyle='-', linewidth=0.5, alpha=1, zorder=0)\n",
    "\n",
    "    plt.tight_layout()\n",
    "    plt.show()"
   ]
  }
 ],
 "metadata": {
  "kernelspec": {
   "display_name": "Python 3",
   "language": "python",
   "name": "python3"
  },
  "language_info": {
   "codemirror_mode": {
    "name": "ipython",
    "version": 3
   },
   "file_extension": ".py",
   "mimetype": "text/x-python",
   "name": "python",
   "nbconvert_exporter": "python",
   "pygments_lexer": "ipython3",
   "version": "3.9.18"
  }
 },
 "nbformat": 4,
 "nbformat_minor": 2
}
