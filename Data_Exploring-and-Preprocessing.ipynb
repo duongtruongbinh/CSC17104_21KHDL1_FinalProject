{
 "cells": [
  {
   "cell_type": "markdown",
   "metadata": {},
   "source": [
    "\n",
    "# <p style=\"text-align: center;\"> <b> Exploring and Pre-processing Data </b></p>\n",
    "---"
   ]
  },
  {
   "cell_type": "markdown",
   "metadata": {},
   "source": [
    "## Table of Contents\n",
    "\n",
    "\n",
    "\n",
    "---"
   ]
  },
  {
   "cell_type": "markdown",
   "metadata": {},
   "source": [
    "### Import"
   ]
  },
  {
   "cell_type": "code",
   "execution_count": 8,
   "metadata": {},
   "outputs": [],
   "source": [
    "import numpy as np\n",
    "import pandas as pd\n",
    "import matplotlib.pyplot as plt\n",
    "import seaborn as sns\n",
    "import re"
   ]
  },
  {
   "cell_type": "code",
   "execution_count": 17,
   "metadata": {},
   "outputs": [
    {
     "data": {
      "text/html": [
       "<div>\n",
       "<style scoped>\n",
       "    .dataframe tbody tr th:only-of-type {\n",
       "        vertical-align: middle;\n",
       "    }\n",
       "\n",
       "    .dataframe tbody tr th {\n",
       "        vertical-align: top;\n",
       "    }\n",
       "\n",
       "    .dataframe thead th {\n",
       "        text-align: right;\n",
       "    }\n",
       "</style>\n",
       "<table border=\"1\" class=\"dataframe\">\n",
       "  <thead>\n",
       "    <tr style=\"text-align: right;\">\n",
       "      <th></th>\n",
       "      <th>Unnamed: 0</th>\n",
       "      <th>track_id</th>\n",
       "      <th>artists</th>\n",
       "      <th>album_name</th>\n",
       "      <th>track_name</th>\n",
       "      <th>popularity</th>\n",
       "      <th>duration_ms</th>\n",
       "      <th>explicit</th>\n",
       "      <th>danceability</th>\n",
       "      <th>energy</th>\n",
       "      <th>...</th>\n",
       "      <th>loudness</th>\n",
       "      <th>mode</th>\n",
       "      <th>speechiness</th>\n",
       "      <th>acousticness</th>\n",
       "      <th>instrumentalness</th>\n",
       "      <th>liveness</th>\n",
       "      <th>valence</th>\n",
       "      <th>tempo</th>\n",
       "      <th>time_signature</th>\n",
       "      <th>track_genre</th>\n",
       "    </tr>\n",
       "  </thead>\n",
       "  <tbody>\n",
       "    <tr>\n",
       "      <th>42582</th>\n",
       "      <td>42582</td>\n",
       "      <td>0pAUt6nBJeuI14wc8u2LMV</td>\n",
       "      <td>Napalm Death</td>\n",
       "      <td>The Code Is Red - Long Live the Code</td>\n",
       "      <td>Right You Are</td>\n",
       "      <td>12</td>\n",
       "      <td>52960</td>\n",
       "      <td>False</td>\n",
       "      <td>0.158</td>\n",
       "      <td>0.978</td>\n",
       "      <td>...</td>\n",
       "      <td>-3.926</td>\n",
       "      <td>1</td>\n",
       "      <td>0.0867</td>\n",
       "      <td>0.000004</td>\n",
       "      <td>0.273000</td>\n",
       "      <td>0.3550</td>\n",
       "      <td>0.0324</td>\n",
       "      <td>108.090</td>\n",
       "      <td>3</td>\n",
       "      <td>grindcore</td>\n",
       "    </tr>\n",
       "    <tr>\n",
       "      <th>1294</th>\n",
       "      <td>1294</td>\n",
       "      <td>1KME77F9mu2RQS8vo6JVwa</td>\n",
       "      <td>BaianaSystem;Makavelli;Jay Mitta</td>\n",
       "      <td>OXEAXEEXU</td>\n",
       "      <td>Nauliza</td>\n",
       "      <td>26</td>\n",
       "      <td>220613</td>\n",
       "      <td>False</td>\n",
       "      <td>0.618</td>\n",
       "      <td>0.942</td>\n",
       "      <td>...</td>\n",
       "      <td>-4.511</td>\n",
       "      <td>0</td>\n",
       "      <td>0.1300</td>\n",
       "      <td>0.035900</td>\n",
       "      <td>0.004160</td>\n",
       "      <td>0.2470</td>\n",
       "      <td>0.7360</td>\n",
       "      <td>170.005</td>\n",
       "      <td>4</td>\n",
       "      <td>afrobeat</td>\n",
       "    </tr>\n",
       "    <tr>\n",
       "      <th>73048</th>\n",
       "      <td>73048</td>\n",
       "      <td>0mC5LcnxUMlZ6brTHxWiVD</td>\n",
       "      <td>andhim;Hanne &amp; Lore</td>\n",
       "      <td>Paradiso Musicale 2</td>\n",
       "      <td>Like a Wirsing - Hanne &amp; Lore Remix</td>\n",
       "      <td>0</td>\n",
       "      <td>407441</td>\n",
       "      <td>False</td>\n",
       "      <td>0.809</td>\n",
       "      <td>0.491</td>\n",
       "      <td>...</td>\n",
       "      <td>-9.723</td>\n",
       "      <td>1</td>\n",
       "      <td>0.0895</td>\n",
       "      <td>0.012600</td>\n",
       "      <td>0.848000</td>\n",
       "      <td>0.0480</td>\n",
       "      <td>0.7150</td>\n",
       "      <td>126.019</td>\n",
       "      <td>4</td>\n",
       "      <td>minimal-techno</td>\n",
       "    </tr>\n",
       "    <tr>\n",
       "      <th>53160</th>\n",
       "      <td>53160</td>\n",
       "      <td>1uvBOCykry1KtIC3Rh7kMe</td>\n",
       "      <td>Alesso;TINI</td>\n",
       "      <td>Queda poco para la PAES</td>\n",
       "      <td>Sad Song</td>\n",
       "      <td>0</td>\n",
       "      <td>154024</td>\n",
       "      <td>False</td>\n",
       "      <td>0.735</td>\n",
       "      <td>0.691</td>\n",
       "      <td>...</td>\n",
       "      <td>-6.475</td>\n",
       "      <td>1</td>\n",
       "      <td>0.0362</td>\n",
       "      <td>0.087600</td>\n",
       "      <td>0.000000</td>\n",
       "      <td>0.3400</td>\n",
       "      <td>0.5480</td>\n",
       "      <td>110.018</td>\n",
       "      <td>4</td>\n",
       "      <td>house</td>\n",
       "    </tr>\n",
       "    <tr>\n",
       "      <th>56160</th>\n",
       "      <td>56160</td>\n",
       "      <td>0g4fzRkbLeCDUCoe5iUOcf</td>\n",
       "      <td>Lykke Li</td>\n",
       "      <td>so sad so sexy</td>\n",
       "      <td>sex money feelings die</td>\n",
       "      <td>74</td>\n",
       "      <td>139840</td>\n",
       "      <td>True</td>\n",
       "      <td>0.789</td>\n",
       "      <td>0.534</td>\n",
       "      <td>...</td>\n",
       "      <td>-6.347</td>\n",
       "      <td>0</td>\n",
       "      <td>0.0709</td>\n",
       "      <td>0.323000</td>\n",
       "      <td>0.000003</td>\n",
       "      <td>0.0645</td>\n",
       "      <td>0.6310</td>\n",
       "      <td>134.055</td>\n",
       "      <td>4</td>\n",
       "      <td>indie-pop</td>\n",
       "    </tr>\n",
       "  </tbody>\n",
       "</table>\n",
       "<p>5 rows × 21 columns</p>\n",
       "</div>"
      ],
      "text/plain": [
       "       Unnamed: 0                track_id                           artists  \\\n",
       "42582       42582  0pAUt6nBJeuI14wc8u2LMV                      Napalm Death   \n",
       "1294         1294  1KME77F9mu2RQS8vo6JVwa  BaianaSystem;Makavelli;Jay Mitta   \n",
       "73048       73048  0mC5LcnxUMlZ6brTHxWiVD               andhim;Hanne & Lore   \n",
       "53160       53160  1uvBOCykry1KtIC3Rh7kMe                       Alesso;TINI   \n",
       "56160       56160  0g4fzRkbLeCDUCoe5iUOcf                          Lykke Li   \n",
       "\n",
       "                                 album_name  \\\n",
       "42582  The Code Is Red - Long Live the Code   \n",
       "1294                              OXEAXEEXU   \n",
       "73048                   Paradiso Musicale 2   \n",
       "53160               Queda poco para la PAES   \n",
       "56160                        so sad so sexy   \n",
       "\n",
       "                                track_name  popularity  duration_ms  explicit  \\\n",
       "42582                        Right You Are          12        52960     False   \n",
       "1294                               Nauliza          26       220613     False   \n",
       "73048  Like a Wirsing - Hanne & Lore Remix           0       407441     False   \n",
       "53160                             Sad Song           0       154024     False   \n",
       "56160               sex money feelings die          74       139840      True   \n",
       "\n",
       "       danceability  energy  ...  loudness  mode  speechiness  acousticness  \\\n",
       "42582         0.158   0.978  ...    -3.926     1       0.0867      0.000004   \n",
       "1294          0.618   0.942  ...    -4.511     0       0.1300      0.035900   \n",
       "73048         0.809   0.491  ...    -9.723     1       0.0895      0.012600   \n",
       "53160         0.735   0.691  ...    -6.475     1       0.0362      0.087600   \n",
       "56160         0.789   0.534  ...    -6.347     0       0.0709      0.323000   \n",
       "\n",
       "       instrumentalness  liveness  valence    tempo  time_signature  \\\n",
       "42582          0.273000    0.3550   0.0324  108.090               3   \n",
       "1294           0.004160    0.2470   0.7360  170.005               4   \n",
       "73048          0.848000    0.0480   0.7150  126.019               4   \n",
       "53160          0.000000    0.3400   0.5480  110.018               4   \n",
       "56160          0.000003    0.0645   0.6310  134.055               4   \n",
       "\n",
       "          track_genre  \n",
       "42582       grindcore  \n",
       "1294         afrobeat  \n",
       "73048  minimal-techno  \n",
       "53160           house  \n",
       "56160       indie-pop  \n",
       "\n",
       "[5 rows x 21 columns]"
      ]
     },
     "execution_count": 17,
     "metadata": {},
     "output_type": "execute_result"
    }
   ],
   "source": [
    "df = pd.read_csv('dataset.csv')\n",
    "\n",
    "df.sample(5)"
   ]
  },
  {
   "cell_type": "markdown",
   "metadata": {},
   "source": [
    "### Drop first column unnamed"
   ]
  },
  {
   "cell_type": "code",
   "execution_count": 18,
   "metadata": {},
   "outputs": [
    {
     "data": {
      "text/html": [
       "<div>\n",
       "<style scoped>\n",
       "    .dataframe tbody tr th:only-of-type {\n",
       "        vertical-align: middle;\n",
       "    }\n",
       "\n",
       "    .dataframe tbody tr th {\n",
       "        vertical-align: top;\n",
       "    }\n",
       "\n",
       "    .dataframe thead th {\n",
       "        text-align: right;\n",
       "    }\n",
       "</style>\n",
       "<table border=\"1\" class=\"dataframe\">\n",
       "  <thead>\n",
       "    <tr style=\"text-align: right;\">\n",
       "      <th></th>\n",
       "      <th>track_id</th>\n",
       "      <th>artists</th>\n",
       "      <th>album_name</th>\n",
       "      <th>track_name</th>\n",
       "      <th>popularity</th>\n",
       "      <th>duration_ms</th>\n",
       "      <th>explicit</th>\n",
       "      <th>danceability</th>\n",
       "      <th>energy</th>\n",
       "      <th>key</th>\n",
       "      <th>loudness</th>\n",
       "      <th>mode</th>\n",
       "      <th>speechiness</th>\n",
       "      <th>acousticness</th>\n",
       "      <th>instrumentalness</th>\n",
       "      <th>liveness</th>\n",
       "      <th>valence</th>\n",
       "      <th>tempo</th>\n",
       "      <th>time_signature</th>\n",
       "      <th>track_genre</th>\n",
       "    </tr>\n",
       "  </thead>\n",
       "  <tbody>\n",
       "    <tr>\n",
       "      <th>87728</th>\n",
       "      <td>573o3RPFGAXaob5lqXzli7</td>\n",
       "      <td>Dr. John</td>\n",
       "      <td>New Orleans Voodoo Soul</td>\n",
       "      <td>Zu Zu Man</td>\n",
       "      <td>0</td>\n",
       "      <td>199960</td>\n",
       "      <td>False</td>\n",
       "      <td>0.428</td>\n",
       "      <td>0.594</td>\n",
       "      <td>9</td>\n",
       "      <td>-9.657</td>\n",
       "      <td>1</td>\n",
       "      <td>0.0693</td>\n",
       "      <td>0.8750</td>\n",
       "      <td>0.000022</td>\n",
       "      <td>0.1330</td>\n",
       "      <td>0.786</td>\n",
       "      <td>131.180</td>\n",
       "      <td>4</td>\n",
       "      <td>r-n-b</td>\n",
       "    </tr>\n",
       "    <tr>\n",
       "      <th>80621</th>\n",
       "      <td>4QMZ6gwFTLk9qOhaQsGIxf</td>\n",
       "      <td>G. V. Prakash</td>\n",
       "      <td>Darling (Original Motion Picture Soundtrack)</td>\n",
       "      <td>Neeve</td>\n",
       "      <td>58</td>\n",
       "      <td>281520</td>\n",
       "      <td>False</td>\n",
       "      <td>0.749</td>\n",
       "      <td>0.646</td>\n",
       "      <td>2</td>\n",
       "      <td>-9.598</td>\n",
       "      <td>1</td>\n",
       "      <td>0.0389</td>\n",
       "      <td>0.1110</td>\n",
       "      <td>0.042600</td>\n",
       "      <td>0.2200</td>\n",
       "      <td>0.752</td>\n",
       "      <td>129.996</td>\n",
       "      <td>4</td>\n",
       "      <td>pop-film</td>\n",
       "    </tr>\n",
       "    <tr>\n",
       "      <th>108062</th>\n",
       "      <td>4Cf7INHovrVKQOQNOStdH8</td>\n",
       "      <td>Juan D'Arienzo;Alberto Echagüe</td>\n",
       "      <td>Juan D'arienzo y Alberto Echague</td>\n",
       "      <td>Y Suma y Sigue</td>\n",
       "      <td>25</td>\n",
       "      <td>169306</td>\n",
       "      <td>False</td>\n",
       "      <td>0.640</td>\n",
       "      <td>0.750</td>\n",
       "      <td>7</td>\n",
       "      <td>-3.560</td>\n",
       "      <td>0</td>\n",
       "      <td>0.1300</td>\n",
       "      <td>0.9020</td>\n",
       "      <td>0.000039</td>\n",
       "      <td>0.2050</td>\n",
       "      <td>0.790</td>\n",
       "      <td>130.398</td>\n",
       "      <td>4</td>\n",
       "      <td>tango</td>\n",
       "    </tr>\n",
       "    <tr>\n",
       "      <th>66809</th>\n",
       "      <td>35fEAAr7tkX3BfEw5Z4IVZ</td>\n",
       "      <td>Rik Gaynor</td>\n",
       "      <td>Party Dances/Mini Disco The Greatest Holiday A...</td>\n",
       "      <td>Ymca</td>\n",
       "      <td>8</td>\n",
       "      <td>266213</td>\n",
       "      <td>False</td>\n",
       "      <td>0.708</td>\n",
       "      <td>0.874</td>\n",
       "      <td>6</td>\n",
       "      <td>-3.402</td>\n",
       "      <td>1</td>\n",
       "      <td>0.0436</td>\n",
       "      <td>0.0181</td>\n",
       "      <td>0.000000</td>\n",
       "      <td>0.0442</td>\n",
       "      <td>0.699</td>\n",
       "      <td>126.961</td>\n",
       "      <td>4</td>\n",
       "      <td>kids</td>\n",
       "    </tr>\n",
       "    <tr>\n",
       "      <th>60972</th>\n",
       "      <td>3qTJzZaxcaBzFydhtR3HrE</td>\n",
       "      <td>Skillibeng;Jada Kingdom</td>\n",
       "      <td>Shake (Remix)</td>\n",
       "      <td>Shake (Remix) - Radio Edit</td>\n",
       "      <td>18</td>\n",
       "      <td>213221</td>\n",
       "      <td>False</td>\n",
       "      <td>0.703</td>\n",
       "      <td>0.369</td>\n",
       "      <td>4</td>\n",
       "      <td>-12.691</td>\n",
       "      <td>0</td>\n",
       "      <td>0.3150</td>\n",
       "      <td>0.2570</td>\n",
       "      <td>0.000174</td>\n",
       "      <td>0.0935</td>\n",
       "      <td>0.471</td>\n",
       "      <td>192.084</td>\n",
       "      <td>4</td>\n",
       "      <td>j-dance</td>\n",
       "    </tr>\n",
       "  </tbody>\n",
       "</table>\n",
       "</div>"
      ],
      "text/plain": [
       "                      track_id                         artists  \\\n",
       "87728   573o3RPFGAXaob5lqXzli7                        Dr. John   \n",
       "80621   4QMZ6gwFTLk9qOhaQsGIxf                   G. V. Prakash   \n",
       "108062  4Cf7INHovrVKQOQNOStdH8  Juan D'Arienzo;Alberto Echagüe   \n",
       "66809   35fEAAr7tkX3BfEw5Z4IVZ                      Rik Gaynor   \n",
       "60972   3qTJzZaxcaBzFydhtR3HrE         Skillibeng;Jada Kingdom   \n",
       "\n",
       "                                               album_name  \\\n",
       "87728                             New Orleans Voodoo Soul   \n",
       "80621        Darling (Original Motion Picture Soundtrack)   \n",
       "108062                   Juan D'arienzo y Alberto Echague   \n",
       "66809   Party Dances/Mini Disco The Greatest Holiday A...   \n",
       "60972                                       Shake (Remix)   \n",
       "\n",
       "                        track_name  popularity  duration_ms  explicit  \\\n",
       "87728                    Zu Zu Man           0       199960     False   \n",
       "80621                        Neeve          58       281520     False   \n",
       "108062              Y Suma y Sigue          25       169306     False   \n",
       "66809                         Ymca           8       266213     False   \n",
       "60972   Shake (Remix) - Radio Edit          18       213221     False   \n",
       "\n",
       "        danceability  energy  key  loudness  mode  speechiness  acousticness  \\\n",
       "87728          0.428   0.594    9    -9.657     1       0.0693        0.8750   \n",
       "80621          0.749   0.646    2    -9.598     1       0.0389        0.1110   \n",
       "108062         0.640   0.750    7    -3.560     0       0.1300        0.9020   \n",
       "66809          0.708   0.874    6    -3.402     1       0.0436        0.0181   \n",
       "60972          0.703   0.369    4   -12.691     0       0.3150        0.2570   \n",
       "\n",
       "        instrumentalness  liveness  valence    tempo  time_signature  \\\n",
       "87728           0.000022    0.1330    0.786  131.180               4   \n",
       "80621           0.042600    0.2200    0.752  129.996               4   \n",
       "108062          0.000039    0.2050    0.790  130.398               4   \n",
       "66809           0.000000    0.0442    0.699  126.961               4   \n",
       "60972           0.000174    0.0935    0.471  192.084               4   \n",
       "\n",
       "       track_genre  \n",
       "87728        r-n-b  \n",
       "80621     pop-film  \n",
       "108062       tango  \n",
       "66809         kids  \n",
       "60972      j-dance  "
      ]
     },
     "execution_count": 18,
     "metadata": {},
     "output_type": "execute_result"
    }
   ],
   "source": [
    "df.drop(columns=df.columns[0], axis=1, inplace=True)\n",
    "df.sample(5)"
   ]
  },
  {
   "cell_type": "markdown",
   "metadata": {},
   "source": [
    "### How many rows and columns?"
   ]
  },
  {
   "cell_type": "code",
   "execution_count": 11,
   "metadata": {},
   "outputs": [
    {
     "data": {
      "text/plain": [
       "(114000, 20)"
      ]
     },
     "execution_count": 11,
     "metadata": {},
     "output_type": "execute_result"
    }
   ],
   "source": [
    "df.shape"
   ]
  },
  {
   "cell_type": "markdown",
   "metadata": {},
   "source": [
    "- Number of rows: 114000\n",
    "\n",
    "- Number of columns: 20"
   ]
  },
  {
   "cell_type": "markdown",
   "metadata": {},
   "source": [
    "### What is the meaning of each row?"
   ]
  },
  {
   "cell_type": "markdown",
   "metadata": {},
   "source": [
    "- A row represents the information of a song(track_name, album_name, artists,...) and some of its properties in Spotify"
   ]
  },
  {
   "cell_type": "markdown",
   "metadata": {},
   "source": [
    "### Are there duplicated rows?"
   ]
  },
  {
   "cell_type": "code",
   "execution_count": 12,
   "metadata": {},
   "outputs": [
    {
     "data": {
      "text/plain": [
       "450"
      ]
     },
     "execution_count": 12,
     "metadata": {},
     "output_type": "execute_result"
    }
   ],
   "source": [
    "df.duplicated().sum()"
   ]
  },
  {
   "cell_type": "markdown",
   "metadata": {},
   "source": [
    "- There are 450 duplicated rows"
   ]
  },
  {
   "cell_type": "markdown",
   "metadata": {},
   "source": [
    "### Drop duplicated rows"
   ]
  },
  {
   "cell_type": "code",
   "execution_count": 19,
   "metadata": {},
   "outputs": [
    {
     "data": {
      "text/plain": [
       "0"
      ]
     },
     "execution_count": 19,
     "metadata": {},
     "output_type": "execute_result"
    }
   ],
   "source": [
    "df.drop_duplicates(inplace=True)\n",
    "df.duplicated().sum()"
   ]
  },
  {
   "cell_type": "markdown",
   "metadata": {},
   "source": [
    "- There is no duplicated rows"
   ]
  },
  {
   "cell_type": "markdown",
   "metadata": {},
   "source": [
    "### What is the meaning of each colum?"
   ]
  },
  {
   "cell_type": "markdown",
   "metadata": {},
   "source": [
    "- `track_id`: The Spotify ID for the track\n",
    "\n",
    "- `artists`: The artists' names who performed the track. If there is more than one artist, they are separated by a ;\n",
    "\n",
    "- `album_name`: The album name in which the track appears\n",
    "\n",
    "- `track_name`: Name of the track\n",
    "\n",
    "- `popularity`: **The popularity of a track is a value between 0 and 100, with 100 being the most popular**. The popularity is calculated by algorithm and is based, in the most part, on the total number of plays the track has had and how recent those plays are. Generally speaking, songs that are being played a lot now will have a higher popularity than songs that were played a lot in the past. Duplicate tracks (e.g. the same track from a single and an album) are rated independently. Artist and album popularity is derived mathematically from track popularity.\n",
    "\n",
    "- `duration_ms`: The track length in milliseconds\n",
    "\n",
    "- `explicit`: Whether or not the track has explicit lyrics (true = yes it does; false = no it does not OR unknown)\n",
    "\n",
    "- `danceability`: Danceability describes how suitable a track is for dancing based on a combination of musical elements including tempo, rhythm stability, beat strength, and overall regularity. A value of 0.0 is least danceable and 1.0 is most danceable\n",
    "\n",
    "- `energy`: Energy is a measure from 0.0 to 1.0 and represents a perceptual measure of intensity and activity. Typically, energetic tracks feel fast, loud, and noisy. For example, death metal has high energy, while a Bach prelude scores low on the scale\n",
    "\n",
    "- `key`: The key the track is in. Integers map to pitches using standard Pitch Class notation. E.g. 0 = C, 1 = C♯/D♭, 2 = D, and so on. If no key was detected, the value is -1\n",
    "\n",
    "- `loudness`: The overall loudness of a track in decibels (dB)\n",
    "\n",
    "- `mode`: Mode indicates the modality (major or minor) of a track, the type of scale from which its melodic content is derived. Major is represented by 1 and minor is 0\n",
    "\n",
    "- `speechiness`: Speechiness detects the presence of spoken words in a track. The more exclusively speech-like the recording (e.g. talk show, audio book, poetry), the closer to 1.0 the attribute value. Values above 0.66 describe tracks that are probably made entirely of spoken words. Values between 0.33 and 0.66 describe tracks that may contain both music and speech, either in sections or layered, including such cases as rap music. Values below 0.33 most likely represent music and other non-speech-like tracks\n",
    "\n",
    "- `acousticness`: A confidence measure from 0.0 to 1.0 of whether the track is acoustic. 1.0 represents high confidence the track is acoustic\n",
    "\n",
    "- `instrumentalness`: Predicts whether a track contains no vocals. \"Ooh\" and \"aah\" sounds are treated as instrumental in this context. Rap or spoken word tracks are clearly \"vocal\". The closer the instrumentalness value is to 1.0, the greater likelihood the track contains no vocal content\n",
    "\n",
    "- `liveness`: Detects the presence of an audience in the recording. Higher liveness values represent an increased probability that the track was performed live. A value above 0.8 provides strong likelihood that the track is live\n",
    "\n",
    "- `valence`: A measure from 0.0 to 1.0 describing the musical positiveness conveyed by a track. Tracks with high valence sound more positive (e.g. happy, cheerful, euphoric), while tracks with low valence sound more negative (e.g. sad, depressed, angry)\n",
    "\n",
    "- `tempo`: The overall estimated tempo of a track in beats per minute (BPM). In musical terminology, tempo is the speed or pace of a given piece and derives directly from the average beat duration\n",
    "\n",
    "- `time_signature`: An estimated time signature. The time signature (meter) is a notational convention to specify how many beats are in each bar (or measure). The time signature ranges from 3 to 7 indicating time signatures of 3/4, to 7/4.\n",
    "\n",
    "- `track_genre`: The genre in which the track belongs"
   ]
  },
  {
   "cell_type": "markdown",
   "metadata": {},
   "source": [
    "### What is the current data type of each column? Are there any columns having inappropriate data types?"
   ]
  },
  {
   "cell_type": "code",
   "execution_count": 16,
   "metadata": {},
   "outputs": [
    {
     "data": {
      "text/plain": [
       "track_id             object\n",
       "artists              object\n",
       "album_name           object\n",
       "track_name           object\n",
       "popularity            int64\n",
       "duration_ms           int64\n",
       "explicit               bool\n",
       "danceability        float64\n",
       "energy              float64\n",
       "key                   int64\n",
       "loudness            float64\n",
       "mode                  int64\n",
       "speechiness         float64\n",
       "acousticness        float64\n",
       "instrumentalness    float64\n",
       "liveness            float64\n",
       "valence             float64\n",
       "tempo               float64\n",
       "time_signature        int64\n",
       "track_genre          object\n",
       "dtype: object"
      ]
     },
     "execution_count": 16,
     "metadata": {},
     "output_type": "execute_result"
    }
   ],
   "source": [
    "df.dtypes"
   ]
  },
  {
   "cell_type": "markdown",
   "metadata": {},
   "source": [
    "There are some inapropriate columns' data types:\n",
    "\n",
    "- `track_id, artists, album_name, track_name, track_genre` are String"
   ]
  },
  {
   "cell_type": "markdown",
   "metadata": {},
   "source": [
    "Convert to correct data types"
   ]
  },
  {
   "cell_type": "code",
   "execution_count": 22,
   "metadata": {},
   "outputs": [],
   "source": [
    "obj_to_str_cols = ['track_id', 'artists', 'album_name', 'track_name', 'track_genre']\n",
    "\n",
    "df[obj_to_str_cols] = df[obj_to_str_cols].astype(str)"
   ]
  },
  {
   "cell_type": "code",
   "execution_count": 23,
   "metadata": {},
   "outputs": [
    {
     "data": {
      "text/plain": [
       "track_id             object\n",
       "artists              object\n",
       "album_name           object\n",
       "track_name           object\n",
       "popularity            int64\n",
       "duration_ms           int64\n",
       "explicit               bool\n",
       "danceability        float64\n",
       "energy              float64\n",
       "key                   int64\n",
       "loudness            float64\n",
       "mode                  int64\n",
       "speechiness         float64\n",
       "acousticness        float64\n",
       "instrumentalness    float64\n",
       "liveness            float64\n",
       "valence             float64\n",
       "tempo               float64\n",
       "time_signature        int64\n",
       "track_genre          object\n",
       "dtype: object"
      ]
     },
     "execution_count": 23,
     "metadata": {},
     "output_type": "execute_result"
    }
   ],
   "source": [
    "df.dtypes"
   ]
  },
  {
   "cell_type": "markdown",
   "metadata": {},
   "source": [
    "## 02. Data Distribution"
   ]
  },
  {
   "cell_type": "markdown",
   "metadata": {},
   "source": [
    "### 02.1.1 Distribution of a numerical column"
   ]
  },
  {
   "cell_type": "markdown",
   "metadata": {},
   "source": [
    "### 02.1.2 Distribution of a categorical column"
   ]
  },
  {
   "cell_type": "markdown",
   "metadata": {},
   "source": [
    "- 5 samples of categorical columns"
   ]
  },
  {
   "cell_type": "code",
   "execution_count": 27,
   "metadata": {},
   "outputs": [
    {
     "data": {
      "text/html": [
       "<div>\n",
       "<style scoped>\n",
       "    .dataframe tbody tr th:only-of-type {\n",
       "        vertical-align: middle;\n",
       "    }\n",
       "\n",
       "    .dataframe tbody tr th {\n",
       "        vertical-align: top;\n",
       "    }\n",
       "\n",
       "    .dataframe thead th {\n",
       "        text-align: right;\n",
       "    }\n",
       "</style>\n",
       "<table border=\"1\" class=\"dataframe\">\n",
       "  <thead>\n",
       "    <tr style=\"text-align: right;\">\n",
       "      <th></th>\n",
       "      <th>track_id</th>\n",
       "      <th>artists</th>\n",
       "      <th>album_name</th>\n",
       "      <th>track_name</th>\n",
       "      <th>explicit</th>\n",
       "      <th>track_genre</th>\n",
       "    </tr>\n",
       "  </thead>\n",
       "  <tbody>\n",
       "    <tr>\n",
       "      <th>9101</th>\n",
       "      <td>4ekDggjElGJX9kNSOtnbVf</td>\n",
       "      <td>Dubdogz;Bhaskar</td>\n",
       "      <td>Infinity (Dubdogz &amp; Bhaskar Edit)</td>\n",
       "      <td>Infinity - Dubdogz &amp; Bhaskar Edit</td>\n",
       "      <td>False</td>\n",
       "      <td>brazil</td>\n",
       "    </tr>\n",
       "    <tr>\n",
       "      <th>29945</th>\n",
       "      <td>41sFEVzcBymxGTnnZCUkzG</td>\n",
       "      <td>Jason Ross;Grant;your friend polly</td>\n",
       "      <td>Atlas</td>\n",
       "      <td>All I Need (feat. your friend polly)</td>\n",
       "      <td>False</td>\n",
       "      <td>dubstep</td>\n",
       "    </tr>\n",
       "    <tr>\n",
       "      <th>111039</th>\n",
       "      <td>0SX6ObZSFQz0NcR5zdU7At</td>\n",
       "      <td>FKA twigs</td>\n",
       "      <td>Hits à suivre 2022</td>\n",
       "      <td>killer</td>\n",
       "      <td>False</td>\n",
       "      <td>trip-hop</td>\n",
       "    </tr>\n",
       "    <tr>\n",
       "      <th>59825</th>\n",
       "      <td>71mdBWRWfnyf5Tu69SONg7</td>\n",
       "      <td>Farzad Golpayegani</td>\n",
       "      <td>One</td>\n",
       "      <td>Twenty Two</td>\n",
       "      <td>False</td>\n",
       "      <td>iranian</td>\n",
       "    </tr>\n",
       "    <tr>\n",
       "      <th>89895</th>\n",
       "      <td>43FSBWy8WSY32mUWX4lL1X</td>\n",
       "      <td>Pitizion</td>\n",
       "      <td>Fiesta Reggaeton 2010s</td>\n",
       "      <td>Crisis Mentales</td>\n",
       "      <td>False</td>\n",
       "      <td>reggaeton</td>\n",
       "    </tr>\n",
       "  </tbody>\n",
       "</table>\n",
       "</div>"
      ],
      "text/plain": [
       "                      track_id                             artists  \\\n",
       "9101    4ekDggjElGJX9kNSOtnbVf                     Dubdogz;Bhaskar   \n",
       "29945   41sFEVzcBymxGTnnZCUkzG  Jason Ross;Grant;your friend polly   \n",
       "111039  0SX6ObZSFQz0NcR5zdU7At                           FKA twigs   \n",
       "59825   71mdBWRWfnyf5Tu69SONg7                  Farzad Golpayegani   \n",
       "89895   43FSBWy8WSY32mUWX4lL1X                            Pitizion   \n",
       "\n",
       "                               album_name  \\\n",
       "9101    Infinity (Dubdogz & Bhaskar Edit)   \n",
       "29945                               Atlas   \n",
       "111039                 Hits à suivre 2022   \n",
       "59825                                 One   \n",
       "89895              Fiesta Reggaeton 2010s   \n",
       "\n",
       "                                  track_name  explicit track_genre  \n",
       "9101       Infinity - Dubdogz & Bhaskar Edit     False      brazil  \n",
       "29945   All I Need (feat. your friend polly)     False     dubstep  \n",
       "111039                                killer     False    trip-hop  \n",
       "59825                             Twenty Two     False     iranian  \n",
       "89895                        Crisis Mentales     False   reggaeton  "
      ]
     },
     "execution_count": 27,
     "metadata": {},
     "output_type": "execute_result"
    }
   ],
   "source": [
    "categorical_cols = df[df.columns[(df.dtypes == 'object') | (df.dtypes == 'bool')]]\n",
    "categorical_cols.sample(5)"
   ]
  },
  {
   "cell_type": "markdown",
   "metadata": {},
   "source": [
    "- The categorical columns consist of 5 object columns and 1 boolean column.\n",
    "- All are non-null."
   ]
  },
  {
   "cell_type": "code",
   "execution_count": 39,
   "metadata": {},
   "outputs": [
    {
     "name": "stdout",
     "output_type": "stream",
     "text": [
      "<class 'pandas.core.frame.DataFrame'>\n",
      "Index: 113550 entries, 0 to 113999\n",
      "Data columns (total 6 columns):\n",
      " #   Column       Non-Null Count   Dtype \n",
      "---  ------       --------------   ----- \n",
      " 0   track_id     113550 non-null  object\n",
      " 1   artists      113550 non-null  object\n",
      " 2   album_name   113550 non-null  object\n",
      " 3   track_name   113550 non-null  object\n",
      " 4   explicit     113550 non-null  bool  \n",
      " 5   track_genre  113550 non-null  object\n",
      "dtypes: bool(1), object(5)\n",
      "memory usage: 5.3+ MB\n"
     ]
    }
   ],
   "source": [
    "categorical_cols.info()"
   ]
  },
  {
   "cell_type": "markdown",
   "metadata": {},
   "source": [
    "- Missing values = 1"
   ]
  },
  {
   "cell_type": "code",
   "execution_count": 42,
   "metadata": {},
   "outputs": [
    {
     "name": "stdout",
     "output_type": "stream",
     "text": [
      "track_id       0\n",
      "artists        1\n",
      "album_name     1\n",
      "track_name     1\n",
      "explicit       0\n",
      "track_genre    0\n",
      "dtype: int64\n",
      "                     track_id artists album_name track_name  explicit  \\\n",
      "65900  1kR4gIb7nGxHPI3D2ifs59     nan        nan        nan     False   \n",
      "\n",
      "      track_genre  \n",
      "65900       k-pop  \n"
     ]
    }
   ],
   "source": [
    "print((categorical_cols == 'nan').sum())\n",
    "\n",
    "print(categorical_cols[categorical_cols['track_name'] == 'nan'])"
   ]
  },
  {
   "cell_type": "markdown",
   "metadata": {},
   "source": [
    "**These are concise statistics about the columns**\n",
    "- `count`: the number of values in each column\n",
    "- `unique`: the number of unique values\n",
    "- `top`: the most frequently occurring value\n",
    "- `freq`: the frequency"
   ]
  },
  {
   "cell_type": "code",
   "execution_count": 43,
   "metadata": {},
   "outputs": [
    {
     "data": {
      "text/html": [
       "<div>\n",
       "<style scoped>\n",
       "    .dataframe tbody tr th:only-of-type {\n",
       "        vertical-align: middle;\n",
       "    }\n",
       "\n",
       "    .dataframe tbody tr th {\n",
       "        vertical-align: top;\n",
       "    }\n",
       "\n",
       "    .dataframe thead th {\n",
       "        text-align: right;\n",
       "    }\n",
       "</style>\n",
       "<table border=\"1\" class=\"dataframe\">\n",
       "  <thead>\n",
       "    <tr style=\"text-align: right;\">\n",
       "      <th></th>\n",
       "      <th>track_id</th>\n",
       "      <th>artists</th>\n",
       "      <th>album_name</th>\n",
       "      <th>track_name</th>\n",
       "      <th>explicit</th>\n",
       "      <th>track_genre</th>\n",
       "    </tr>\n",
       "  </thead>\n",
       "  <tbody>\n",
       "    <tr>\n",
       "      <th>count</th>\n",
       "      <td>113550</td>\n",
       "      <td>113550</td>\n",
       "      <td>113550</td>\n",
       "      <td>113550</td>\n",
       "      <td>113550</td>\n",
       "      <td>113550</td>\n",
       "    </tr>\n",
       "    <tr>\n",
       "      <th>unique</th>\n",
       "      <td>89741</td>\n",
       "      <td>31438</td>\n",
       "      <td>46590</td>\n",
       "      <td>73609</td>\n",
       "      <td>2</td>\n",
       "      <td>114</td>\n",
       "    </tr>\n",
       "    <tr>\n",
       "      <th>top</th>\n",
       "      <td>6S3JlDAGk3uu3NtZbPnuhS</td>\n",
       "      <td>The Beatles</td>\n",
       "      <td>Alternative Christmas 2022</td>\n",
       "      <td>Run Rudolph Run</td>\n",
       "      <td>False</td>\n",
       "      <td>acoustic</td>\n",
       "    </tr>\n",
       "    <tr>\n",
       "      <th>freq</th>\n",
       "      <td>9</td>\n",
       "      <td>279</td>\n",
       "      <td>195</td>\n",
       "      <td>151</td>\n",
       "      <td>103832</td>\n",
       "      <td>1000</td>\n",
       "    </tr>\n",
       "  </tbody>\n",
       "</table>\n",
       "</div>"
      ],
      "text/plain": [
       "                      track_id      artists                  album_name  \\\n",
       "count                   113550       113550                      113550   \n",
       "unique                   89741        31438                       46590   \n",
       "top     6S3JlDAGk3uu3NtZbPnuhS  The Beatles  Alternative Christmas 2022   \n",
       "freq                         9          279                         195   \n",
       "\n",
       "             track_name explicit track_genre  \n",
       "count            113550   113550      113550  \n",
       "unique            73609        2         114  \n",
       "top     Run Rudolph Run    False    acoustic  \n",
       "freq                151   103832        1000  "
      ]
     },
     "execution_count": 43,
     "metadata": {},
     "output_type": "execute_result"
    }
   ],
   "source": [
    "df.describe(include=['object', 'bool'])"
   ]
  },
  {
   "cell_type": "markdown",
   "metadata": {},
   "source": [
    "---\n",
    "\n",
    "**Boolean Column (explicit)**"
   ]
  },
  {
   "cell_type": "code",
   "execution_count": 48,
   "metadata": {},
   "outputs": [
    {
     "data": {
      "image/png": "[encoded data removed]",
      "text/plain": [
       "<Figure size 500x500 with 1 Axes>"
      ]
     },
     "metadata": {},
     "output_type": "display_data"
    }
   ],
   "source": [
    "plt.figure(figsize=(5, 5))\n",
    "plt.title('explicit')\n",
    "plt.pie(np.unique(categorical_cols['explicit'], return_counts=True)[1], labels=np.unique(categorical_cols['explicit'], return_counts=True)[0], autopct = '%1.2f%%');\n"
   ]
  }
 ],
 "metadata": {
  "kernelspec": {
   "display_name": "Python 3",
   "language": "python",
   "name": "python3"
  },
  "language_info": {
   "codemirror_mode": {
    "name": "ipython",
    "version": 3
   },
   "file_extension": ".py",
   "mimetype": "text/x-python",
   "name": "python",
   "nbconvert_exporter": "python",
   "pygments_lexer": "ipython3",
   "version": "3.9.18"
  }
 },
 "nbformat": 4,
 "nbformat_minor": 2
}
