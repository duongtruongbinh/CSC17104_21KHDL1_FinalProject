{
 "cells": [
  {
   "cell_type": "markdown",
   "metadata": {},
   "source": [
    "\n",
    "# <p style=\"text-align: center;\"> <b> Exploring and Pre-processing Data </b></p>\n",
    "---"
   ]
  },
  {
   "cell_type": "markdown",
   "metadata": {},
   "source": [
    "## Table of Contents\n",
    "\n",
    "\n",
    "\n",
    "---"
   ]
  },
  {
   "cell_type": "markdown",
   "metadata": {},
   "source": [
    "## Import Libraries"
   ]
  },
  {
   "cell_type": "code",
   "execution_count": 1,
   "metadata": {},
   "outputs": [],
   "source": [
    "import numpy as np\n",
    "import pandas as pd\n",
    "import matplotlib.pyplot as plt\n",
    "import seaborn as sns\n",
    "import re"
   ]
  },
  {
   "cell_type": "code",
   "execution_count": 2,
   "metadata": {},
   "outputs": [
    {
     "data": {
      "text/html": [
       "<div>\n",
       "<style scoped>\n",
       "    .dataframe tbody tr th:only-of-type {\n",
       "        vertical-align: middle;\n",
       "    }\n",
       "\n",
       "    .dataframe tbody tr th {\n",
       "        vertical-align: top;\n",
       "    }\n",
       "\n",
       "    .dataframe thead th {\n",
       "        text-align: right;\n",
       "    }\n",
       "</style>\n",
       "<table border=\"1\" class=\"dataframe\">\n",
       "  <thead>\n",
       "    <tr style=\"text-align: right;\">\n",
       "      <th></th>\n",
       "      <th>track_id</th>\n",
       "      <th>artists</th>\n",
       "      <th>album_name</th>\n",
       "      <th>track_name</th>\n",
       "      <th>popularity</th>\n",
       "      <th>duration_ms</th>\n",
       "      <th>explicit</th>\n",
       "      <th>danceability</th>\n",
       "      <th>energy</th>\n",
       "      <th>key</th>\n",
       "      <th>loudness</th>\n",
       "      <th>mode</th>\n",
       "      <th>speechiness</th>\n",
       "      <th>acousticness</th>\n",
       "      <th>instrumentalness</th>\n",
       "      <th>liveness</th>\n",
       "      <th>valence</th>\n",
       "      <th>tempo</th>\n",
       "      <th>time_signature</th>\n",
       "      <th>track_genre</th>\n",
       "    </tr>\n",
       "  </thead>\n",
       "  <tbody>\n",
       "    <tr>\n",
       "      <th>111452</th>\n",
       "      <td>0vkxviQkVKdgxEdmDncedH</td>\n",
       "      <td>UNKLE</td>\n",
       "      <td>Psyence Fiction</td>\n",
       "      <td>Unreal</td>\n",
       "      <td>43</td>\n",
       "      <td>308373</td>\n",
       "      <td>False</td>\n",
       "      <td>0.624</td>\n",
       "      <td>0.819</td>\n",
       "      <td>8</td>\n",
       "      <td>-7.428</td>\n",
       "      <td>0</td>\n",
       "      <td>0.0299</td>\n",
       "      <td>0.10600</td>\n",
       "      <td>0.897000</td>\n",
       "      <td>0.137</td>\n",
       "      <td>0.540</td>\n",
       "      <td>105.133</td>\n",
       "      <td>4</td>\n",
       "      <td>trip-hop</td>\n",
       "    </tr>\n",
       "    <tr>\n",
       "      <th>43990</th>\n",
       "      <td>4ZEhLtreMhLT7sOMEAXwc1</td>\n",
       "      <td>Rodrigo Mozart</td>\n",
       "      <td>Me Chama Pelo Nome</td>\n",
       "      <td>Me Chama Pelo Nome</td>\n",
       "      <td>22</td>\n",
       "      <td>314400</td>\n",
       "      <td>False</td>\n",
       "      <td>0.331</td>\n",
       "      <td>0.671</td>\n",
       "      <td>0</td>\n",
       "      <td>-4.478</td>\n",
       "      <td>0</td>\n",
       "      <td>0.0327</td>\n",
       "      <td>0.00472</td>\n",
       "      <td>0.000003</td>\n",
       "      <td>0.105</td>\n",
       "      <td>0.241</td>\n",
       "      <td>149.915</td>\n",
       "      <td>3</td>\n",
       "      <td>groove</td>\n",
       "    </tr>\n",
       "    <tr>\n",
       "      <th>93356</th>\n",
       "      <td>51QhZPWIe5gD5PgSV7luyl</td>\n",
       "      <td>Александр Цфасман;Вокальное Трио</td>\n",
       "      <td>Я люблю танцевать</td>\n",
       "      <td>Мечты</td>\n",
       "      <td>0</td>\n",
       "      <td>170893</td>\n",
       "      <td>False</td>\n",
       "      <td>0.373</td>\n",
       "      <td>0.140</td>\n",
       "      <td>5</td>\n",
       "      <td>-20.719</td>\n",
       "      <td>0</td>\n",
       "      <td>0.0506</td>\n",
       "      <td>0.97600</td>\n",
       "      <td>0.367000</td>\n",
       "      <td>0.156</td>\n",
       "      <td>0.226</td>\n",
       "      <td>117.624</td>\n",
       "      <td>3</td>\n",
       "      <td>romance</td>\n",
       "    </tr>\n",
       "    <tr>\n",
       "      <th>44669</th>\n",
       "      <td>2yBAPa9HZj3P2szSaaj4k1</td>\n",
       "      <td>Alice In Chains</td>\n",
       "      <td>Unplugged</td>\n",
       "      <td>Down In A Hole - Live at the Majestic Theatre,...</td>\n",
       "      <td>56</td>\n",
       "      <td>346026</td>\n",
       "      <td>False</td>\n",
       "      <td>0.554</td>\n",
       "      <td>0.515</td>\n",
       "      <td>6</td>\n",
       "      <td>-8.534</td>\n",
       "      <td>1</td>\n",
       "      <td>0.0240</td>\n",
       "      <td>0.08830</td>\n",
       "      <td>0.000027</td>\n",
       "      <td>0.883</td>\n",
       "      <td>0.432</td>\n",
       "      <td>95.125</td>\n",
       "      <td>4</td>\n",
       "      <td>grunge</td>\n",
       "    </tr>\n",
       "    <tr>\n",
       "      <th>71453</th>\n",
       "      <td>507bYMYfbm6sUS9iEAaeSd</td>\n",
       "      <td>Seether;Amy Lee</td>\n",
       "      <td>Disclaimer II</td>\n",
       "      <td>Broken</td>\n",
       "      <td>70</td>\n",
       "      <td>258333</td>\n",
       "      <td>False</td>\n",
       "      <td>0.448</td>\n",
       "      <td>0.610</td>\n",
       "      <td>3</td>\n",
       "      <td>-2.695</td>\n",
       "      <td>0</td>\n",
       "      <td>0.0342</td>\n",
       "      <td>0.01020</td>\n",
       "      <td>0.000491</td>\n",
       "      <td>0.135</td>\n",
       "      <td>0.214</td>\n",
       "      <td>123.762</td>\n",
       "      <td>4</td>\n",
       "      <td>metal</td>\n",
       "    </tr>\n",
       "  </tbody>\n",
       "</table>\n",
       "</div>"
      ],
      "text/plain": [
       "                      track_id                           artists  \\\n",
       "111452  0vkxviQkVKdgxEdmDncedH                             UNKLE   \n",
       "43990   4ZEhLtreMhLT7sOMEAXwc1                    Rodrigo Mozart   \n",
       "93356   51QhZPWIe5gD5PgSV7luyl  Александр Цфасман;Вокальное Трио   \n",
       "44669   2yBAPa9HZj3P2szSaaj4k1                   Alice In Chains   \n",
       "71453   507bYMYfbm6sUS9iEAaeSd                   Seether;Amy Lee   \n",
       "\n",
       "                album_name                                         track_name  \\\n",
       "111452     Psyence Fiction                                             Unreal   \n",
       "43990   Me Chama Pelo Nome                                 Me Chama Pelo Nome   \n",
       "93356    Я люблю танцевать                                              Мечты   \n",
       "44669            Unplugged  Down In A Hole - Live at the Majestic Theatre,...   \n",
       "71453        Disclaimer II                                             Broken   \n",
       "\n",
       "        popularity  duration_ms  explicit  danceability  energy  key  \\\n",
       "111452          43       308373     False         0.624   0.819    8   \n",
       "43990           22       314400     False         0.331   0.671    0   \n",
       "93356            0       170893     False         0.373   0.140    5   \n",
       "44669           56       346026     False         0.554   0.515    6   \n",
       "71453           70       258333     False         0.448   0.610    3   \n",
       "\n",
       "        loudness  mode  speechiness  acousticness  instrumentalness  liveness  \\\n",
       "111452    -7.428     0       0.0299       0.10600          0.897000     0.137   \n",
       "43990     -4.478     0       0.0327       0.00472          0.000003     0.105   \n",
       "93356    -20.719     0       0.0506       0.97600          0.367000     0.156   \n",
       "44669     -8.534     1       0.0240       0.08830          0.000027     0.883   \n",
       "71453     -2.695     0       0.0342       0.01020          0.000491     0.135   \n",
       "\n",
       "        valence    tempo  time_signature track_genre  \n",
       "111452    0.540  105.133               4    trip-hop  \n",
       "43990     0.241  149.915               3      groove  \n",
       "93356     0.226  117.624               3     romance  \n",
       "44669     0.432   95.125               4      grunge  \n",
       "71453     0.214  123.762               4       metal  "
      ]
     },
     "execution_count": 2,
     "metadata": {},
     "output_type": "execute_result"
    }
   ],
   "source": [
    "df = pd.read_csv('dataset.csv',index_col=0)\n",
    "\n",
    "df.sample(5)"
   ]
  },
  {
   "cell_type": "markdown",
   "metadata": {},
   "source": [
    "### How many rows and columns?"
   ]
  },
  {
   "cell_type": "code",
   "execution_count": 3,
   "metadata": {},
   "outputs": [
    {
     "data": {
      "text/plain": [
       "(114000, 20)"
      ]
     },
     "execution_count": 3,
     "metadata": {},
     "output_type": "execute_result"
    }
   ],
   "source": [
    "df.shape"
   ]
  },
  {
   "cell_type": "markdown",
   "metadata": {},
   "source": [
    "- Number of rows: 114000\n",
    "- Number of columns: 20"
   ]
  },
  {
   "cell_type": "markdown",
   "metadata": {},
   "source": [
    "### What is the meaning of each row?"
   ]
  },
  {
   "cell_type": "markdown",
   "metadata": {},
   "source": [
    "- A row represents the information of a song(track_name, album_name, artists,...) and some of its properties in Spotify"
   ]
  },
  {
   "cell_type": "markdown",
   "metadata": {},
   "source": [
    "### Are there duplicated rows?"
   ]
  },
  {
   "cell_type": "code",
   "execution_count": 4,
   "metadata": {},
   "outputs": [
    {
     "data": {
      "text/plain": [
       "450"
      ]
     },
     "execution_count": 4,
     "metadata": {},
     "output_type": "execute_result"
    }
   ],
   "source": [
    "# check duplicate row\n",
    "df.duplicated().sum()"
   ]
  },
  {
   "cell_type": "markdown",
   "metadata": {},
   "source": [
    "So there are 450 duplicated rows in the dataset. We will remove them."
   ]
  },
  {
   "cell_type": "markdown",
   "metadata": {},
   "source": [
    "### Drop duplicated rows"
   ]
  },
  {
   "cell_type": "code",
   "execution_count": 5,
   "metadata": {},
   "outputs": [
    {
     "name": "stdout",
     "output_type": "stream",
     "text": [
      "Duplicate row: 0\n",
      "Data shape: (113550, 20)\n"
     ]
    }
   ],
   "source": [
    "df.drop_duplicates(inplace=True)\n",
    "\n",
    "print(f'Duplicate row: {df.duplicated().sum()}')\n",
    "print(f'Data shape: {df.shape}')"
   ]
  },
  {
   "cell_type": "markdown",
   "metadata": {},
   "source": [
    "After dropping duplicated rows, we have 113550 rows left."
   ]
  },
  {
   "cell_type": "markdown",
   "metadata": {},
   "source": [
    "### What is the meaning of each colum?"
   ]
  },
  {
   "cell_type": "markdown",
   "metadata": {},
   "source": [
    "- `track_id`: The Spotify ID for the track\n",
    "\n",
    "- `artists`: The artists' names who performed the track. If there is more than one artist, they are separated by a ;\n",
    "\n",
    "- `album_name`: The album name in which the track appears\n",
    "\n",
    "- `track_name`: Name of the track\n",
    "\n",
    "- `popularity`: **The popularity of a track is a value between 0 and 100, with 100 being the most popular**. The popularity is calculated by algorithm and is based, in the most part, on the total number of plays the track has had and how recent those plays are. Generally speaking, songs that are being played a lot now will have a higher popularity than songs that were played a lot in the past. Duplicate tracks (e.g. the same track from a single and an album) are rated independently. Artist and album popularity is derived mathematically from track popularity.\n",
    "\n",
    "- `duration_ms`: The track length in milliseconds\n",
    "\n",
    "- `explicit`: Whether or not the track has explicit lyrics (true = yes it does; false = no it does not OR unknown)\n",
    "\n",
    "- `danceability`: Danceability describes how suitable a track is for dancing based on a combination of musical elements including tempo, rhythm stability, beat strength, and overall regularity. A value of 0.0 is least danceable and 1.0 is most danceable\n",
    "\n",
    "- `energy`: Energy is a measure from 0.0 to 1.0 and represents a perceptual measure of intensity and activity. Typically, energetic tracks feel fast, loud, and noisy. For example, death metal has high energy, while a Bach prelude scores low on the scale\n",
    "\n",
    "- `key`: The key the track is in. Integers map to pitches using standard Pitch Class notation. E.g. 0 = C, 1 = C♯/D♭, 2 = D, and so on. If no key was detected, the value is -1\n",
    "\n",
    "- `loudness`: The overall loudness of a track in decibels (dB)\n",
    "\n",
    "- `mode`: Mode indicates the modality (major or minor) of a track, the type of scale from which its melodic content is derived. Major is represented by 1 and minor is 0\n",
    "\n",
    "- `speechiness`: Speechiness detects the presence of spoken words in a track. The more exclusively speech-like the recording (e.g. talk show, audio book, poetry), the closer to 1.0 the attribute value. Values above 0.66 describe tracks that are probably made entirely of spoken words. Values between 0.33 and 0.66 describe tracks that may contain both music and speech, either in sections or layered, including such cases as rap music. Values below 0.33 most likely represent music and other non-speech-like tracks\n",
    "\n",
    "- `acousticness`: A confidence measure from 0.0 to 1.0 of whether the track is acoustic. 1.0 represents high confidence the track is acoustic\n",
    "\n",
    "- `instrumentalness`: Predicts whether a track contains no vocals. \"Ooh\" and \"aah\" sounds are treated as instrumental in this context. Rap or spoken word tracks are clearly \"vocal\". The closer the instrumentalness value is to 1.0, the greater likelihood the track contains no vocal content\n",
    "\n",
    "- `liveness`: Detects the presence of an audience in the recording. Higher liveness values represent an increased probability that the track was performed live. A value above 0.8 provides strong likelihood that the track is live\n",
    "\n",
    "- `valence`: A measure from 0.0 to 1.0 describing the musical positiveness conveyed by a track. Tracks with high valence sound more positive (e.g. happy, cheerful, euphoric), while tracks with low valence sound more negative (e.g. sad, depressed, angry)\n",
    "\n",
    "- `tempo`: The overall estimated tempo of a track in beats per minute (BPM). In musical terminology, tempo is the speed or pace of a given piece and derives directly from the average beat duration\n",
    "\n",
    "- `time_signature`: An estimated time signature. The time signature (meter) is a notational convention to specify how many beats are in each bar (or measure). The time signature ranges from 3 to 7 indicating time signatures of 3/4, to 7/4.\n",
    "\n",
    "- `track_genre`: The genre in which the track belongs"
   ]
  },
  {
   "cell_type": "markdown",
   "metadata": {},
   "source": [
    "### What is the current data type of each column? Are there any columns having inappropriate data types?"
   ]
  },
  {
   "cell_type": "code",
   "execution_count": 6,
   "metadata": {},
   "outputs": [
    {
     "data": {
      "text/plain": [
       "track_id             object\n",
       "artists              object\n",
       "album_name           object\n",
       "track_name           object\n",
       "popularity            int64\n",
       "duration_ms           int64\n",
       "explicit               bool\n",
       "danceability        float64\n",
       "energy              float64\n",
       "key                   int64\n",
       "loudness            float64\n",
       "mode                  int64\n",
       "speechiness         float64\n",
       "acousticness        float64\n",
       "instrumentalness    float64\n",
       "liveness            float64\n",
       "valence             float64\n",
       "tempo               float64\n",
       "time_signature        int64\n",
       "track_genre          object\n",
       "dtype: object"
      ]
     },
     "execution_count": 6,
     "metadata": {},
     "output_type": "execute_result"
    }
   ],
   "source": [
    "df.dtypes"
   ]
  },
  {
   "cell_type": "markdown",
   "metadata": {},
   "source": [
    "There are some inapropriate columns' data types:\n",
    "\n",
    "- `track_id, artists, album_name, track_name, track_genre` are String"
   ]
  },
  {
   "cell_type": "markdown",
   "metadata": {},
   "source": [
    "Convert to correct data types"
   ]
  },
  {
   "cell_type": "code",
   "execution_count": 7,
   "metadata": {},
   "outputs": [],
   "source": [
    "obj_to_str_cols = ['track_id', 'artists', 'album_name', 'track_name', 'track_genre']\n",
    "\n",
    "df[obj_to_str_cols] = df[obj_to_str_cols].astype(str)"
   ]
  },
  {
   "cell_type": "code",
   "execution_count": 8,
   "metadata": {},
   "outputs": [
    {
     "data": {
      "text/plain": [
       "track_id             object\n",
       "artists              object\n",
       "album_name           object\n",
       "track_name           object\n",
       "popularity            int64\n",
       "duration_ms           int64\n",
       "explicit               bool\n",
       "danceability        float64\n",
       "energy              float64\n",
       "key                   int64\n",
       "loudness            float64\n",
       "mode                  int64\n",
       "speechiness         float64\n",
       "acousticness        float64\n",
       "instrumentalness    float64\n",
       "liveness            float64\n",
       "valence             float64\n",
       "tempo               float64\n",
       "time_signature        int64\n",
       "track_genre          object\n",
       "dtype: object"
      ]
     },
     "execution_count": 8,
     "metadata": {},
     "output_type": "execute_result"
    }
   ],
   "source": [
    "df.dtypes"
   ]
  },
  {
   "cell_type": "markdown",
   "metadata": {},
   "source": [
    "## 02. Data Distribution"
   ]
  },
  {
   "cell_type": "markdown",
   "metadata": {},
   "source": [
    "### 02.1.1 Distribution of a numerical column\n",
    "\n",
    "First we have to take out all numerical columns"
   ]
  },
  {
   "cell_type": "code",
   "execution_count": 25,
   "metadata": {},
   "outputs": [
    {
     "data": {
      "text/plain": [
       "(113550, 14)"
      ]
     },
     "execution_count": 25,
     "metadata": {},
     "output_type": "execute_result"
    }
   ],
   "source": [
    "numerical_cols = df[df.columns[(df.dtypes == 'float64') | (df.dtypes == 'int64')]]\n",
    "numerical_cols.shape"
   ]
  },
  {
   "cell_type": "markdown",
   "metadata": {},
   "source": [
    "There are 14 numerical columns, let's see 5 sample rows of them"
   ]
  },
  {
   "cell_type": "code",
   "execution_count": 26,
   "metadata": {},
   "outputs": [
    {
     "data": {
      "text/html": [
       "<div>\n",
       "<style scoped>\n",
       "    .dataframe tbody tr th:only-of-type {\n",
       "        vertical-align: middle;\n",
       "    }\n",
       "\n",
       "    .dataframe tbody tr th {\n",
       "        vertical-align: top;\n",
       "    }\n",
       "\n",
       "    .dataframe thead th {\n",
       "        text-align: right;\n",
       "    }\n",
       "</style>\n",
       "<table border=\"1\" class=\"dataframe\">\n",
       "  <thead>\n",
       "    <tr style=\"text-align: right;\">\n",
       "      <th></th>\n",
       "      <th>popularity</th>\n",
       "      <th>duration_ms</th>\n",
       "      <th>danceability</th>\n",
       "      <th>energy</th>\n",
       "      <th>key</th>\n",
       "      <th>loudness</th>\n",
       "      <th>mode</th>\n",
       "      <th>speechiness</th>\n",
       "      <th>acousticness</th>\n",
       "      <th>instrumentalness</th>\n",
       "      <th>liveness</th>\n",
       "      <th>valence</th>\n",
       "      <th>tempo</th>\n",
       "      <th>time_signature</th>\n",
       "    </tr>\n",
       "  </thead>\n",
       "  <tbody>\n",
       "    <tr>\n",
       "      <th>27685</th>\n",
       "      <td>16</td>\n",
       "      <td>331000</td>\n",
       "      <td>0.550</td>\n",
       "      <td>0.823</td>\n",
       "      <td>8</td>\n",
       "      <td>-1.915</td>\n",
       "      <td>0</td>\n",
       "      <td>0.0611</td>\n",
       "      <td>0.00064</td>\n",
       "      <td>0.148000</td>\n",
       "      <td>0.3700</td>\n",
       "      <td>0.408</td>\n",
       "      <td>178.051</td>\n",
       "      <td>4</td>\n",
       "    </tr>\n",
       "    <tr>\n",
       "      <th>95351</th>\n",
       "      <td>32</td>\n",
       "      <td>356640</td>\n",
       "      <td>0.638</td>\n",
       "      <td>0.588</td>\n",
       "      <td>5</td>\n",
       "      <td>-11.756</td>\n",
       "      <td>1</td>\n",
       "      <td>0.0357</td>\n",
       "      <td>0.62600</td>\n",
       "      <td>0.000003</td>\n",
       "      <td>0.2940</td>\n",
       "      <td>0.849</td>\n",
       "      <td>84.613</td>\n",
       "      <td>4</td>\n",
       "    </tr>\n",
       "    <tr>\n",
       "      <th>69177</th>\n",
       "      <td>36</td>\n",
       "      <td>249504</td>\n",
       "      <td>0.382</td>\n",
       "      <td>0.402</td>\n",
       "      <td>1</td>\n",
       "      <td>-9.016</td>\n",
       "      <td>1</td>\n",
       "      <td>0.0312</td>\n",
       "      <td>0.47000</td>\n",
       "      <td>0.000004</td>\n",
       "      <td>0.0557</td>\n",
       "      <td>0.125</td>\n",
       "      <td>75.764</td>\n",
       "      <td>4</td>\n",
       "    </tr>\n",
       "    <tr>\n",
       "      <th>37483</th>\n",
       "      <td>0</td>\n",
       "      <td>222213</td>\n",
       "      <td>0.296</td>\n",
       "      <td>0.277</td>\n",
       "      <td>8</td>\n",
       "      <td>-9.627</td>\n",
       "      <td>1</td>\n",
       "      <td>0.0300</td>\n",
       "      <td>0.51300</td>\n",
       "      <td>0.000000</td>\n",
       "      <td>0.1250</td>\n",
       "      <td>0.254</td>\n",
       "      <td>148.853</td>\n",
       "      <td>3</td>\n",
       "    </tr>\n",
       "    <tr>\n",
       "      <th>77982</th>\n",
       "      <td>42</td>\n",
       "      <td>162368</td>\n",
       "      <td>0.501</td>\n",
       "      <td>0.460</td>\n",
       "      <td>5</td>\n",
       "      <td>-8.954</td>\n",
       "      <td>1</td>\n",
       "      <td>0.0498</td>\n",
       "      <td>0.58400</td>\n",
       "      <td>0.000000</td>\n",
       "      <td>0.1090</td>\n",
       "      <td>0.823</td>\n",
       "      <td>76.443</td>\n",
       "      <td>4</td>\n",
       "    </tr>\n",
       "  </tbody>\n",
       "</table>\n",
       "</div>"
      ],
      "text/plain": [
       "       popularity  duration_ms  danceability  energy  key  loudness  mode  \\\n",
       "27685          16       331000         0.550   0.823    8    -1.915     0   \n",
       "95351          32       356640         0.638   0.588    5   -11.756     1   \n",
       "69177          36       249504         0.382   0.402    1    -9.016     1   \n",
       "37483           0       222213         0.296   0.277    8    -9.627     1   \n",
       "77982          42       162368         0.501   0.460    5    -8.954     1   \n",
       "\n",
       "       speechiness  acousticness  instrumentalness  liveness  valence  \\\n",
       "27685       0.0611       0.00064          0.148000    0.3700    0.408   \n",
       "95351       0.0357       0.62600          0.000003    0.2940    0.849   \n",
       "69177       0.0312       0.47000          0.000004    0.0557    0.125   \n",
       "37483       0.0300       0.51300          0.000000    0.1250    0.254   \n",
       "77982       0.0498       0.58400          0.000000    0.1090    0.823   \n",
       "\n",
       "         tempo  time_signature  \n",
       "27685  178.051               4  \n",
       "95351   84.613               4  \n",
       "69177   75.764               4  \n",
       "37483  148.853               3  \n",
       "77982   76.443               4  "
      ]
     },
     "execution_count": 26,
     "metadata": {},
     "output_type": "execute_result"
    }
   ],
   "source": [
    "numerical_cols.sample(5)"
   ]
  },
  {
   "cell_type": "markdown",
   "metadata": {},
   "source": [
    "### What is the percentage of missing values?\n",
    "\n"
   ]
  },
  {
   "cell_type": "code",
   "execution_count": 17,
   "metadata": {},
   "outputs": [
    {
     "name": "stdout",
     "output_type": "stream",
     "text": [
      "<class 'pandas.core.frame.DataFrame'>\n",
      "Index: 113550 entries, 0 to 113999\n",
      "Data columns (total 14 columns):\n",
      " #   Column            Non-Null Count   Dtype  \n",
      "---  ------            --------------   -----  \n",
      " 0   popularity        113550 non-null  int64  \n",
      " 1   duration_ms       113550 non-null  int64  \n",
      " 2   danceability      113550 non-null  float64\n",
      " 3   energy            113550 non-null  float64\n",
      " 4   key               113550 non-null  int64  \n",
      " 5   loudness          113550 non-null  float64\n",
      " 6   mode              113550 non-null  int64  \n",
      " 7   speechiness       113550 non-null  float64\n",
      " 8   acousticness      113550 non-null  float64\n",
      " 9   instrumentalness  113550 non-null  float64\n",
      " 10  liveness          113550 non-null  float64\n",
      " 11  valence           113550 non-null  float64\n",
      " 12  tempo             113550 non-null  float64\n",
      " 13  time_signature    113550 non-null  int64  \n",
      "dtypes: float64(9), int64(5)\n",
      "memory usage: 13.0 MB\n"
     ]
    }
   ],
   "source": [
    "numerical_cols.info()"
   ]
  },
  {
   "cell_type": "code",
   "execution_count": 23,
   "metadata": {},
   "outputs": [
    {
     "data": {
      "text/plain": [
       "popularity          0.0\n",
       "duration_ms         0.0\n",
       "danceability        0.0\n",
       "energy              0.0\n",
       "key                 0.0\n",
       "loudness            0.0\n",
       "mode                0.0\n",
       "speechiness         0.0\n",
       "acousticness        0.0\n",
       "instrumentalness    0.0\n",
       "liveness            0.0\n",
       "valence             0.0\n",
       "tempo               0.0\n",
       "time_signature      0.0\n",
       "dtype: float64"
      ]
     },
     "execution_count": 23,
     "metadata": {},
     "output_type": "execute_result"
    }
   ],
   "source": [
    "numerical_cols.isnull().mean(axis=0)*100"
   ]
  },
  {
   "cell_type": "markdown",
   "metadata": {},
   "source": [
    "We see that the numerical columns all have percentage of missing values = 0, or in other words, there are **no missing values**.\n",
    "\n",
    "Next, we will take a look at the distribution of each numerical column"
   ]
  },
  {
   "cell_type": "code",
   "execution_count": 55,
   "metadata": {},
   "outputs": [
    {
     "data": {
      "image/png": "[encoded data removed]",
      "text/plain": [
       "<Figure size 2000x1500 with 16 Axes>"
      ]
     },
     "metadata": {},
     "output_type": "display_data"
    }
   ],
   "source": [
    "sns.set_style('darkgrid')\n",
    "numerical_cols.hist(figsize=(20,15))\n",
    "plt.tight_layout()\n",
    "plt.show()"
   ]
  },
  {
   "cell_type": "code",
   "execution_count": 56,
   "metadata": {},
   "outputs": [
    {
     "data": {
      "text/html": [
       "<div>\n",
       "<style scoped>\n",
       "    .dataframe tbody tr th:only-of-type {\n",
       "        vertical-align: middle;\n",
       "    }\n",
       "\n",
       "    .dataframe tbody tr th {\n",
       "        vertical-align: top;\n",
       "    }\n",
       "\n",
       "    .dataframe thead th {\n",
       "        text-align: right;\n",
       "    }\n",
       "</style>\n",
       "<table border=\"1\" class=\"dataframe\">\n",
       "  <thead>\n",
       "    <tr style=\"text-align: right;\">\n",
       "      <th></th>\n",
       "      <th>popularity</th>\n",
       "      <th>duration_ms</th>\n",
       "      <th>danceability</th>\n",
       "      <th>energy</th>\n",
       "      <th>key</th>\n",
       "      <th>loudness</th>\n",
       "      <th>mode</th>\n",
       "      <th>speechiness</th>\n",
       "      <th>acousticness</th>\n",
       "      <th>instrumentalness</th>\n",
       "      <th>liveness</th>\n",
       "      <th>valence</th>\n",
       "      <th>tempo</th>\n",
       "      <th>time_signature</th>\n",
       "    </tr>\n",
       "  </thead>\n",
       "  <tbody>\n",
       "    <tr>\n",
       "      <th>count</th>\n",
       "      <td>113550.000000</td>\n",
       "      <td>1.135500e+05</td>\n",
       "      <td>113550.000000</td>\n",
       "      <td>113550.000000</td>\n",
       "      <td>113550.000000</td>\n",
       "      <td>113550.000000</td>\n",
       "      <td>113550.000000</td>\n",
       "      <td>113550.000000</td>\n",
       "      <td>113550.000000</td>\n",
       "      <td>113550.000000</td>\n",
       "      <td>113550.000000</td>\n",
       "      <td>113550.000000</td>\n",
       "      <td>113550.000000</td>\n",
       "      <td>113550.000000</td>\n",
       "    </tr>\n",
       "    <tr>\n",
       "      <th>mean</th>\n",
       "      <td>33.324139</td>\n",
       "      <td>2.280794e+05</td>\n",
       "      <td>0.567031</td>\n",
       "      <td>0.642090</td>\n",
       "      <td>5.309467</td>\n",
       "      <td>-8.243419</td>\n",
       "      <td>0.637860</td>\n",
       "      <td>0.084674</td>\n",
       "      <td>0.314067</td>\n",
       "      <td>0.155702</td>\n",
       "      <td>0.213611</td>\n",
       "      <td>0.474207</td>\n",
       "      <td>122.175888</td>\n",
       "      <td>3.904218</td>\n",
       "    </tr>\n",
       "    <tr>\n",
       "      <th>std</th>\n",
       "      <td>22.283976</td>\n",
       "      <td>1.064148e+05</td>\n",
       "      <td>0.173408</td>\n",
       "      <td>0.251052</td>\n",
       "      <td>3.560134</td>\n",
       "      <td>5.011401</td>\n",
       "      <td>0.480621</td>\n",
       "      <td>0.105761</td>\n",
       "      <td>0.331907</td>\n",
       "      <td>0.309216</td>\n",
       "      <td>0.190461</td>\n",
       "      <td>0.259204</td>\n",
       "      <td>29.972861</td>\n",
       "      <td>0.432115</td>\n",
       "    </tr>\n",
       "    <tr>\n",
       "      <th>min</th>\n",
       "      <td>0.000000</td>\n",
       "      <td>0.000000e+00</td>\n",
       "      <td>0.000000</td>\n",
       "      <td>0.000000</td>\n",
       "      <td>0.000000</td>\n",
       "      <td>-49.531000</td>\n",
       "      <td>0.000000</td>\n",
       "      <td>0.000000</td>\n",
       "      <td>0.000000</td>\n",
       "      <td>0.000000</td>\n",
       "      <td>0.000000</td>\n",
       "      <td>0.000000</td>\n",
       "      <td>0.000000</td>\n",
       "      <td>0.000000</td>\n",
       "    </tr>\n",
       "    <tr>\n",
       "      <th>25%</th>\n",
       "      <td>17.000000</td>\n",
       "      <td>1.741802e+05</td>\n",
       "      <td>0.456000</td>\n",
       "      <td>0.473000</td>\n",
       "      <td>2.000000</td>\n",
       "      <td>-9.997750</td>\n",
       "      <td>0.000000</td>\n",
       "      <td>0.035900</td>\n",
       "      <td>0.016800</td>\n",
       "      <td>0.000000</td>\n",
       "      <td>0.098000</td>\n",
       "      <td>0.260000</td>\n",
       "      <td>99.296500</td>\n",
       "      <td>4.000000</td>\n",
       "    </tr>\n",
       "    <tr>\n",
       "      <th>50%</th>\n",
       "      <td>35.000000</td>\n",
       "      <td>2.130000e+05</td>\n",
       "      <td>0.580000</td>\n",
       "      <td>0.685000</td>\n",
       "      <td>5.000000</td>\n",
       "      <td>-6.997000</td>\n",
       "      <td>1.000000</td>\n",
       "      <td>0.048900</td>\n",
       "      <td>0.168000</td>\n",
       "      <td>0.000041</td>\n",
       "      <td>0.132000</td>\n",
       "      <td>0.464000</td>\n",
       "      <td>122.020000</td>\n",
       "      <td>4.000000</td>\n",
       "    </tr>\n",
       "    <tr>\n",
       "      <th>75%</th>\n",
       "      <td>50.000000</td>\n",
       "      <td>2.615878e+05</td>\n",
       "      <td>0.695000</td>\n",
       "      <td>0.854000</td>\n",
       "      <td>8.000000</td>\n",
       "      <td>-5.001000</td>\n",
       "      <td>1.000000</td>\n",
       "      <td>0.084500</td>\n",
       "      <td>0.596000</td>\n",
       "      <td>0.048675</td>\n",
       "      <td>0.273000</td>\n",
       "      <td>0.683000</td>\n",
       "      <td>140.073750</td>\n",
       "      <td>4.000000</td>\n",
       "    </tr>\n",
       "    <tr>\n",
       "      <th>max</th>\n",
       "      <td>100.000000</td>\n",
       "      <td>5.237295e+06</td>\n",
       "      <td>0.985000</td>\n",
       "      <td>1.000000</td>\n",
       "      <td>11.000000</td>\n",
       "      <td>4.532000</td>\n",
       "      <td>1.000000</td>\n",
       "      <td>0.965000</td>\n",
       "      <td>0.996000</td>\n",
       "      <td>1.000000</td>\n",
       "      <td>1.000000</td>\n",
       "      <td>0.995000</td>\n",
       "      <td>243.372000</td>\n",
       "      <td>5.000000</td>\n",
       "    </tr>\n",
       "  </tbody>\n",
       "</table>\n",
       "</div>"
      ],
      "text/plain": [
       "          popularity   duration_ms   danceability         energy  \\\n",
       "count  113550.000000  1.135500e+05  113550.000000  113550.000000   \n",
       "mean       33.324139  2.280794e+05       0.567031       0.642090   \n",
       "std        22.283976  1.064148e+05       0.173408       0.251052   \n",
       "min         0.000000  0.000000e+00       0.000000       0.000000   \n",
       "25%        17.000000  1.741802e+05       0.456000       0.473000   \n",
       "50%        35.000000  2.130000e+05       0.580000       0.685000   \n",
       "75%        50.000000  2.615878e+05       0.695000       0.854000   \n",
       "max       100.000000  5.237295e+06       0.985000       1.000000   \n",
       "\n",
       "                 key       loudness           mode    speechiness  \\\n",
       "count  113550.000000  113550.000000  113550.000000  113550.000000   \n",
       "mean        5.309467      -8.243419       0.637860       0.084674   \n",
       "std         3.560134       5.011401       0.480621       0.105761   \n",
       "min         0.000000     -49.531000       0.000000       0.000000   \n",
       "25%         2.000000      -9.997750       0.000000       0.035900   \n",
       "50%         5.000000      -6.997000       1.000000       0.048900   \n",
       "75%         8.000000      -5.001000       1.000000       0.084500   \n",
       "max        11.000000       4.532000       1.000000       0.965000   \n",
       "\n",
       "        acousticness  instrumentalness       liveness        valence  \\\n",
       "count  113550.000000     113550.000000  113550.000000  113550.000000   \n",
       "mean        0.314067          0.155702       0.213611       0.474207   \n",
       "std         0.331907          0.309216       0.190461       0.259204   \n",
       "min         0.000000          0.000000       0.000000       0.000000   \n",
       "25%         0.016800          0.000000       0.098000       0.260000   \n",
       "50%         0.168000          0.000041       0.132000       0.464000   \n",
       "75%         0.596000          0.048675       0.273000       0.683000   \n",
       "max         0.996000          1.000000       1.000000       0.995000   \n",
       "\n",
       "               tempo  time_signature  \n",
       "count  113550.000000   113550.000000  \n",
       "mean      122.175888        3.904218  \n",
       "std        29.972861        0.432115  \n",
       "min         0.000000        0.000000  \n",
       "25%        99.296500        4.000000  \n",
       "50%       122.020000        4.000000  \n",
       "75%       140.073750        4.000000  \n",
       "max       243.372000        5.000000  "
      ]
     },
     "execution_count": 56,
     "metadata": {},
     "output_type": "execute_result"
    }
   ],
   "source": [
    "numerical_cols.describe()"
   ]
  },
  {
   "cell_type": "markdown",
   "metadata": {},
   "source": [
    "### 02.1.2 Distribution of a categorical column"
   ]
  },
  {
   "cell_type": "markdown",
   "metadata": {},
   "source": [
    "- 5 samples of categorical columns"
   ]
  },
  {
   "cell_type": "code",
   "execution_count": 9,
   "metadata": {},
   "outputs": [
    {
     "data": {
      "text/html": [
       "<div>\n",
       "<style scoped>\n",
       "    .dataframe tbody tr th:only-of-type {\n",
       "        vertical-align: middle;\n",
       "    }\n",
       "\n",
       "    .dataframe tbody tr th {\n",
       "        vertical-align: top;\n",
       "    }\n",
       "\n",
       "    .dataframe thead th {\n",
       "        text-align: right;\n",
       "    }\n",
       "</style>\n",
       "<table border=\"1\" class=\"dataframe\">\n",
       "  <thead>\n",
       "    <tr style=\"text-align: right;\">\n",
       "      <th></th>\n",
       "      <th>track_id</th>\n",
       "      <th>artists</th>\n",
       "      <th>album_name</th>\n",
       "      <th>track_name</th>\n",
       "      <th>explicit</th>\n",
       "      <th>track_genre</th>\n",
       "    </tr>\n",
       "  </thead>\n",
       "  <tbody>\n",
       "    <tr>\n",
       "      <th>42084</th>\n",
       "      <td>0cMzErxChfI5jTa8wgSkDo</td>\n",
       "      <td>Soilent Green</td>\n",
       "      <td>Sewn Mouth Secrets &amp; A String of Lies</td>\n",
       "      <td>So Hatred</td>\n",
       "      <td>False</td>\n",
       "      <td>grindcore</td>\n",
       "    </tr>\n",
       "    <tr>\n",
       "      <th>58659</th>\n",
       "      <td>3vzaLnstaAAV1WjwpM2e89</td>\n",
       "      <td>Sevendust</td>\n",
       "      <td>Blood &amp; Stone (Deluxe)</td>\n",
       "      <td>Feel Like Going On</td>\n",
       "      <td>False</td>\n",
       "      <td>industrial</td>\n",
       "    </tr>\n",
       "    <tr>\n",
       "      <th>112463</th>\n",
       "      <td>1QXVekOyWPBUQF7aOh5KT6</td>\n",
       "      <td>Yaşlı Amca</td>\n",
       "      <td>Akşamüstü</td>\n",
       "      <td>Kimsesiz</td>\n",
       "      <td>False</td>\n",
       "      <td>turkish</td>\n",
       "    </tr>\n",
       "    <tr>\n",
       "      <th>2239</th>\n",
       "      <td>52qebMWeKw2x34v56DPFcl</td>\n",
       "      <td>No Doubt</td>\n",
       "      <td>Helloween Party</td>\n",
       "      <td>Spiderwebs</td>\n",
       "      <td>False</td>\n",
       "      <td>alt-rock</td>\n",
       "    </tr>\n",
       "    <tr>\n",
       "      <th>95211</th>\n",
       "      <td>6nxop4edP4uHU25CnWqqv0</td>\n",
       "      <td>Maelo Ruiz</td>\n",
       "      <td>Uniquehits</td>\n",
       "      <td>Te Amo</td>\n",
       "      <td>False</td>\n",
       "      <td>salsa</td>\n",
       "    </tr>\n",
       "  </tbody>\n",
       "</table>\n",
       "</div>"
      ],
      "text/plain": [
       "                      track_id        artists  \\\n",
       "42084   0cMzErxChfI5jTa8wgSkDo  Soilent Green   \n",
       "58659   3vzaLnstaAAV1WjwpM2e89      Sevendust   \n",
       "112463  1QXVekOyWPBUQF7aOh5KT6     Yaşlı Amca   \n",
       "2239    52qebMWeKw2x34v56DPFcl       No Doubt   \n",
       "95211   6nxop4edP4uHU25CnWqqv0     Maelo Ruiz   \n",
       "\n",
       "                                   album_name          track_name  explicit  \\\n",
       "42084   Sewn Mouth Secrets & A String of Lies           So Hatred     False   \n",
       "58659                  Blood & Stone (Deluxe)  Feel Like Going On     False   \n",
       "112463                              Akşamüstü            Kimsesiz     False   \n",
       "2239                          Helloween Party          Spiderwebs     False   \n",
       "95211                              Uniquehits              Te Amo     False   \n",
       "\n",
       "       track_genre  \n",
       "42084    grindcore  \n",
       "58659   industrial  \n",
       "112463     turkish  \n",
       "2239      alt-rock  \n",
       "95211        salsa  "
      ]
     },
     "execution_count": 9,
     "metadata": {},
     "output_type": "execute_result"
    }
   ],
   "source": [
    "categorical_cols = df[df.columns[(df.dtypes == 'object') | (df.dtypes == 'bool')]]\n",
    "categorical_cols.sample(5)"
   ]
  },
  {
   "cell_type": "markdown",
   "metadata": {},
   "source": [
    "- The categorical columns consist of 5 object columns and 1 boolean column.\n",
    "- All are non-null."
   ]
  },
  {
   "cell_type": "code",
   "execution_count": 10,
   "metadata": {},
   "outputs": [
    {
     "name": "stdout",
     "output_type": "stream",
     "text": [
      "<class 'pandas.core.frame.DataFrame'>\n",
      "Index: 113550 entries, 0 to 113999\n",
      "Data columns (total 6 columns):\n",
      " #   Column       Non-Null Count   Dtype \n",
      "---  ------       --------------   ----- \n",
      " 0   track_id     113550 non-null  object\n",
      " 1   artists      113550 non-null  object\n",
      " 2   album_name   113550 non-null  object\n",
      " 3   track_name   113550 non-null  object\n",
      " 4   explicit     113550 non-null  bool  \n",
      " 5   track_genre  113550 non-null  object\n",
      "dtypes: bool(1), object(5)\n",
      "memory usage: 5.3+ MB\n"
     ]
    }
   ],
   "source": [
    "categorical_cols.info()"
   ]
  },
  {
   "cell_type": "markdown",
   "metadata": {},
   "source": [
    "- Missing values = 1"
   ]
  },
  {
   "cell_type": "code",
   "execution_count": 11,
   "metadata": {},
   "outputs": [
    {
     "name": "stdout",
     "output_type": "stream",
     "text": [
      "track_id       0\n",
      "artists        1\n",
      "album_name     1\n",
      "track_name     1\n",
      "explicit       0\n",
      "track_genre    0\n",
      "dtype: int64\n",
      "                     track_id artists album_name track_name  explicit  \\\n",
      "65900  1kR4gIb7nGxHPI3D2ifs59     nan        nan        nan     False   \n",
      "\n",
      "      track_genre  \n",
      "65900       k-pop  \n"
     ]
    }
   ],
   "source": [
    "print((categorical_cols == 'nan').sum())\n",
    "\n",
    "print(categorical_cols[categorical_cols['track_name'] == 'nan'])"
   ]
  },
  {
   "cell_type": "markdown",
   "metadata": {},
   "source": [
    "**These are concise statistics about the columns**\n",
    "- `count`: the number of values in each column\n",
    "- `unique`: the number of unique values\n",
    "- `top`: the most frequently occurring value\n",
    "- `freq`: the frequency"
   ]
  },
  {
   "cell_type": "code",
   "execution_count": 12,
   "metadata": {},
   "outputs": [
    {
     "data": {
      "text/html": [
       "<div>\n",
       "<style scoped>\n",
       "    .dataframe tbody tr th:only-of-type {\n",
       "        vertical-align: middle;\n",
       "    }\n",
       "\n",
       "    .dataframe tbody tr th {\n",
       "        vertical-align: top;\n",
       "    }\n",
       "\n",
       "    .dataframe thead th {\n",
       "        text-align: right;\n",
       "    }\n",
       "</style>\n",
       "<table border=\"1\" class=\"dataframe\">\n",
       "  <thead>\n",
       "    <tr style=\"text-align: right;\">\n",
       "      <th></th>\n",
       "      <th>track_id</th>\n",
       "      <th>artists</th>\n",
       "      <th>album_name</th>\n",
       "      <th>track_name</th>\n",
       "      <th>explicit</th>\n",
       "      <th>track_genre</th>\n",
       "    </tr>\n",
       "  </thead>\n",
       "  <tbody>\n",
       "    <tr>\n",
       "      <th>count</th>\n",
       "      <td>113550</td>\n",
       "      <td>113550</td>\n",
       "      <td>113550</td>\n",
       "      <td>113550</td>\n",
       "      <td>113550</td>\n",
       "      <td>113550</td>\n",
       "    </tr>\n",
       "    <tr>\n",
       "      <th>unique</th>\n",
       "      <td>89741</td>\n",
       "      <td>31438</td>\n",
       "      <td>46590</td>\n",
       "      <td>73609</td>\n",
       "      <td>2</td>\n",
       "      <td>114</td>\n",
       "    </tr>\n",
       "    <tr>\n",
       "      <th>top</th>\n",
       "      <td>6S3JlDAGk3uu3NtZbPnuhS</td>\n",
       "      <td>The Beatles</td>\n",
       "      <td>Alternative Christmas 2022</td>\n",
       "      <td>Run Rudolph Run</td>\n",
       "      <td>False</td>\n",
       "      <td>acoustic</td>\n",
       "    </tr>\n",
       "    <tr>\n",
       "      <th>freq</th>\n",
       "      <td>9</td>\n",
       "      <td>279</td>\n",
       "      <td>195</td>\n",
       "      <td>151</td>\n",
       "      <td>103832</td>\n",
       "      <td>1000</td>\n",
       "    </tr>\n",
       "  </tbody>\n",
       "</table>\n",
       "</div>"
      ],
      "text/plain": [
       "                      track_id      artists                  album_name  \\\n",
       "count                   113550       113550                      113550   \n",
       "unique                   89741        31438                       46590   \n",
       "top     6S3JlDAGk3uu3NtZbPnuhS  The Beatles  Alternative Christmas 2022   \n",
       "freq                         9          279                         195   \n",
       "\n",
       "             track_name explicit track_genre  \n",
       "count            113550   113550      113550  \n",
       "unique            73609        2         114  \n",
       "top     Run Rudolph Run    False    acoustic  \n",
       "freq                151   103832        1000  "
      ]
     },
     "execution_count": 12,
     "metadata": {},
     "output_type": "execute_result"
    }
   ],
   "source": [
    "df.describe(include=['object', 'bool'])"
   ]
  },
  {
   "cell_type": "markdown",
   "metadata": {},
   "source": [
    "---\n",
    "\n",
    "**Boolean Column (explicit)**"
   ]
  },
  {
   "cell_type": "code",
   "execution_count": 13,
   "metadata": {},
   "outputs": [
    {
     "data": {
      "image/png": "[encoded data removed]",
      "text/plain": [
       "<Figure size 500x500 with 1 Axes>"
      ]
     },
     "metadata": {},
     "output_type": "display_data"
    }
   ],
   "source": [
    "plt.figure(figsize=(5, 5))\n",
    "plt.title('explicit')\n",
    "plt.pie(np.unique(categorical_cols['explicit'], return_counts=True)[1], labels=np.unique(categorical_cols['explicit'], return_counts=True)[0], autopct = '%1.2f%%');\n"
   ]
  }
 ],
 "metadata": {
  "kernelspec": {
   "display_name": "Python 3",
   "language": "python",
   "name": "python3"
  },
  "language_info": {
   "codemirror_mode": {
    "name": "ipython",
    "version": 3
   },
   "file_extension": ".py",
   "mimetype": "text/x-python",
   "name": "python",
   "nbconvert_exporter": "python",
   "pygments_lexer": "ipython3",
   "version": "3.9.18"
  }
 },
 "nbformat": 4,
 "nbformat_minor": 2
}
